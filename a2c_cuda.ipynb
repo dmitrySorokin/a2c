{
  "nbformat": 4,
  "nbformat_minor": 0,
  "metadata": {
    "colab": {
      "name": "a2c_cuda.ipynb",
      "version": "0.3.2",
      "provenance": []
    },
    "language_info": {
      "codemirror_mode": {
        "name": "ipython",
        "version": 3
      },
      "file_extension": ".py",
      "mimetype": "text/x-python",
      "name": "python",
      "nbconvert_exporter": "python",
      "pygments_lexer": "ipython3",
      "version": "3.6.7"
    },
    "kernelspec": {
      "name": "python3",
      "display_name": "Python 3"
    },
    "accelerator": "GPU"
  },
  "cells": [
    {
      "cell_type": "code",
      "metadata": {
        "id": "ZLYhgPAoIl72",
        "colab_type": "code",
        "outputId": "2213aa3e-237a-4a8c-c05b-5be3ca67bae3",
        "colab": {
          "base_uri": "https://localhost:8080/",
          "height": 903
        }
      },
      "source": [
        "# in google colab uncomment this\n",
        "\n",
        "!wget https://raw.githubusercontent.com/dmitrySorokin/Practical_RL/spring19/week06_policy_based/env_batch.py\n",
        "!pip install gym==0.12.1\n",
        "!pip install -e git+https://dmsoroki@bitbucket.org/dmsoroki/gym_interf.git@master#egg=gym_interf\n",
        "\n",
        "\n",
        "# XVFB will be launched if you run on a server\n",
        "import os\n",
        "if type(os.environ.get(\"DISPLAY\")) is not str or len(os.environ.get(\"DISPLAY\")) == 0:\n",
        "    !bash ../xvfb start\n",
        "    %env DISPLAY = : 1"
      ],
      "execution_count": 0,
      "outputs": [
        {
          "output_type": "stream",
          "text": [
            "--2019-05-22 14:00:23--  https://raw.githubusercontent.com/dmitrySorokin/Practical_RL/spring19/week06_policy_based/env_batch.py\n",
            "Resolving raw.githubusercontent.com (raw.githubusercontent.com)... 151.101.0.133, 151.101.64.133, 151.101.128.133, ...\n",
            "Connecting to raw.githubusercontent.com (raw.githubusercontent.com)|151.101.0.133|:443... connected.\n",
            "HTTP request sent, awaiting response... 200 OK\n",
            "Length: 6260 (6.1K) [text/plain]\n",
            "Saving to: ‘env_batch.py.2’\n",
            "\n",
            "\renv_batch.py.2        0%[                    ]       0  --.-KB/s               \renv_batch.py.2      100%[===================>]   6.11K  --.-KB/s    in 0s      \n",
            "\n",
            "2019-05-22 14:00:24 (77.9 MB/s) - ‘env_batch.py.2’ saved [6260/6260]\n",
            "\n",
            "Requirement already satisfied: gym==0.12.1 in /usr/local/lib/python3.6/dist-packages (0.12.1)\n",
            "Requirement already satisfied: numpy>=1.10.4 in /usr/local/lib/python3.6/dist-packages (from gym==0.12.1) (1.16.3)\n",
            "Requirement already satisfied: requests>=2.0 in /usr/local/lib/python3.6/dist-packages (from gym==0.12.1) (2.21.0)\n",
            "Requirement already satisfied: pyglet>=1.2.0 in /usr/local/lib/python3.6/dist-packages (from gym==0.12.1) (1.3.2)\n",
            "Requirement already satisfied: six in /usr/local/lib/python3.6/dist-packages (from gym==0.12.1) (1.12.0)\n",
            "Requirement already satisfied: scipy in /usr/local/lib/python3.6/dist-packages (from gym==0.12.1) (1.3.0)\n",
            "Requirement already satisfied: certifi>=2017.4.17 in /usr/local/lib/python3.6/dist-packages (from requests>=2.0->gym==0.12.1) (2019.3.9)\n",
            "Requirement already satisfied: urllib3<1.25,>=1.21.1 in /usr/local/lib/python3.6/dist-packages (from requests>=2.0->gym==0.12.1) (1.24.3)\n",
            "Requirement already satisfied: chardet<3.1.0,>=3.0.2 in /usr/local/lib/python3.6/dist-packages (from requests>=2.0->gym==0.12.1) (3.0.4)\n",
            "Requirement already satisfied: idna<2.9,>=2.5 in /usr/local/lib/python3.6/dist-packages (from requests>=2.0->gym==0.12.1) (2.8)\n",
            "Requirement already satisfied: future in /usr/local/lib/python3.6/dist-packages (from pyglet>=1.2.0->gym==0.12.1) (0.16.0)\n",
            "Obtaining gym_interf from git+https://dmsoroki@bitbucket.org/dmsoroki/gym_interf.git@master#egg=gym_interf\n",
            "  Updating ./src/gym-interf clone (to revision master)\n",
            "  Running command git fetch -q --tags\n",
            "  Running command git reset --hard -q 547580e111417a274172aada6bf663524be5648f\n",
            "Requirement already satisfied: gym in /usr/local/lib/python3.6/dist-packages (from gym_interf) (0.12.1)\n",
            "Requirement already satisfied: numpy in /usr/local/lib/python3.6/dist-packages (from gym_interf) (1.16.3)\n",
            "Requirement already satisfied: matplotlib in /usr/local/lib/python3.6/dist-packages (from gym_interf) (3.0.3)\n",
            "Requirement already satisfied: pygame in /usr/local/lib/python3.6/dist-packages (from gym_interf) (1.9.6)\n",
            "Requirement already satisfied: scipy in /usr/local/lib/python3.6/dist-packages (from gym->gym_interf) (1.3.0)\n",
            "Requirement already satisfied: six in /usr/local/lib/python3.6/dist-packages (from gym->gym_interf) (1.12.0)\n",
            "Requirement already satisfied: requests>=2.0 in /usr/local/lib/python3.6/dist-packages (from gym->gym_interf) (2.21.0)\n",
            "Requirement already satisfied: pyglet>=1.2.0 in /usr/local/lib/python3.6/dist-packages (from gym->gym_interf) (1.3.2)\n",
            "Requirement already satisfied: kiwisolver>=1.0.1 in /usr/local/lib/python3.6/dist-packages (from matplotlib->gym_interf) (1.1.0)\n",
            "Requirement already satisfied: cycler>=0.10 in /usr/local/lib/python3.6/dist-packages (from matplotlib->gym_interf) (0.10.0)\n",
            "Requirement already satisfied: pyparsing!=2.0.4,!=2.1.2,!=2.1.6,>=2.0.1 in /usr/local/lib/python3.6/dist-packages (from matplotlib->gym_interf) (2.4.0)\n",
            "Requirement already satisfied: python-dateutil>=2.1 in /usr/local/lib/python3.6/dist-packages (from matplotlib->gym_interf) (2.5.3)\n",
            "Requirement already satisfied: chardet<3.1.0,>=3.0.2 in /usr/local/lib/python3.6/dist-packages (from requests>=2.0->gym->gym_interf) (3.0.4)\n",
            "Requirement already satisfied: certifi>=2017.4.17 in /usr/local/lib/python3.6/dist-packages (from requests>=2.0->gym->gym_interf) (2019.3.9)\n",
            "Requirement already satisfied: idna<2.9,>=2.5 in /usr/local/lib/python3.6/dist-packages (from requests>=2.0->gym->gym_interf) (2.8)\n",
            "Requirement already satisfied: urllib3<1.25,>=1.21.1 in /usr/local/lib/python3.6/dist-packages (from requests>=2.0->gym->gym_interf) (1.24.3)\n",
            "Requirement already satisfied: future in /usr/local/lib/python3.6/dist-packages (from pyglet>=1.2.0->gym->gym_interf) (0.16.0)\n",
            "Requirement already satisfied: setuptools in /usr/local/lib/python3.6/dist-packages (from kiwisolver>=1.0.1->matplotlib->gym_interf) (41.0.1)\n",
            "Installing collected packages: gym-interf\n",
            "  Found existing installation: gym-interf 0.1\n",
            "    Can't uninstall 'gym-interf'. No files were found to uninstall.\n",
            "  Running setup.py develop for gym-interf\n",
            "Successfully installed gym-interf\n",
            "bash: ../xvfb: No such file or directory\n",
            "env: DISPLAY=: 1\n"
          ],
          "name": "stdout"
        }
      ]
    },
    {
      "cell_type": "code",
      "metadata": {
        "id": "3li8ux2rPNlJ",
        "colab_type": "code",
        "outputId": "ef986fd2-6627-4422-ea9e-506a37fabb4e",
        "colab": {
          "base_uri": "https://localhost:8080/",
          "height": 52
        }
      },
      "source": [
        "!pip list | grep gym"
      ],
      "execution_count": 0,
      "outputs": [
        {
          "output_type": "stream",
          "text": [
            "gym                      0.12.1                \n",
            "gym-interf               0.1                   /content/src/gym-interf\n"
          ],
          "name": "stdout"
        }
      ]
    },
    {
      "cell_type": "code",
      "metadata": {
        "id": "epnPVTlwIl8S",
        "colab_type": "code",
        "colab": {}
      },
      "source": [
        "import gym\n",
        "import gym_interf\n",
        "from env_batch import ParallelEnvBatch\n",
        "import numpy as np\n",
        "\n",
        "def make_interf_env(seed):\n",
        "    env = gym.make('interf-v1')\n",
        "    #env.set_calc_reward('delta_visib')\n",
        "    env.set_calc_image('gpu')\n",
        "    env.seed(seed)\n",
        "    return env\n",
        "\n",
        "\n",
        "def make_env(nenvs):\n",
        "    seed = list(range(nenvs))\n",
        "    env = ParallelEnvBatch([\n",
        "        lambda env_seed=env_seed: make_interf_env(seed=env_seed)\n",
        "        for env_seed in seed\n",
        "    ])\n",
        "    return env\n",
        "\n",
        "\n",
        "N_ENVS = 8\n",
        "N_STEPS = 20\n",
        "env = make_env(nenvs=N_ENVS)\n",
        "obs = env.reset()\n",
        "N_ACTIONS = env.action_space.n\n",
        "OBS_SHAPE = obs.shape\n",
        "assert obs.shape == (8, 16, 64, 64), obs.shape\n",
        "assert obs.dtype == np.uint8"
      ],
      "execution_count": 0,
      "outputs": []
    },
    {
      "cell_type": "code",
      "metadata": {
        "id": "qrCdOUiFzjnM",
        "colab_type": "code",
        "outputId": "20fb0517-9a2a-42b9-9d96-5201a0840e26",
        "colab": {
          "base_uri": "https://localhost:8080/",
          "height": 1059
        }
      },
      "source": [
        "e = make_interf_env(0)\n",
        "s = e.reset()\n",
        "e.step(0)\n",
        "\n"
      ],
      "execution_count": 0,
      "outputs": [
        {
          "output_type": "execute_result",
          "data": {
            "text/plain": [
              "(array([[[0, 0, 0, ..., 0, 0, 0],\n",
              "         [0, 0, 0, ..., 0, 0, 0],\n",
              "         [0, 0, 0, ..., 0, 0, 0],\n",
              "         ...,\n",
              "         [0, 0, 0, ..., 0, 0, 0],\n",
              "         [0, 0, 0, ..., 0, 0, 0],\n",
              "         [0, 0, 0, ..., 0, 0, 0]],\n",
              " \n",
              "        [[0, 0, 0, ..., 0, 0, 0],\n",
              "         [0, 0, 0, ..., 0, 0, 0],\n",
              "         [0, 0, 0, ..., 0, 0, 0],\n",
              "         ...,\n",
              "         [0, 0, 0, ..., 0, 0, 0],\n",
              "         [0, 0, 0, ..., 0, 0, 0],\n",
              "         [0, 0, 0, ..., 0, 0, 0]],\n",
              " \n",
              "        [[0, 0, 0, ..., 0, 0, 0],\n",
              "         [0, 0, 0, ..., 0, 0, 0],\n",
              "         [0, 0, 0, ..., 0, 0, 0],\n",
              "         ...,\n",
              "         [0, 0, 0, ..., 0, 0, 0],\n",
              "         [0, 0, 0, ..., 0, 0, 0],\n",
              "         [0, 0, 0, ..., 0, 0, 0]],\n",
              " \n",
              "        ...,\n",
              " \n",
              "        [[0, 0, 0, ..., 0, 0, 0],\n",
              "         [0, 0, 0, ..., 0, 0, 0],\n",
              "         [0, 0, 0, ..., 0, 0, 0],\n",
              "         ...,\n",
              "         [0, 0, 0, ..., 0, 0, 0],\n",
              "         [0, 0, 0, ..., 0, 0, 0],\n",
              "         [0, 0, 0, ..., 0, 0, 0]],\n",
              " \n",
              "        [[0, 0, 0, ..., 0, 0, 0],\n",
              "         [0, 0, 0, ..., 0, 0, 0],\n",
              "         [0, 0, 0, ..., 0, 0, 0],\n",
              "         ...,\n",
              "         [0, 0, 0, ..., 0, 0, 0],\n",
              "         [0, 0, 0, ..., 0, 0, 0],\n",
              "         [0, 0, 0, ..., 0, 0, 0]],\n",
              " \n",
              "        [[0, 0, 0, ..., 0, 0, 0],\n",
              "         [0, 0, 0, ..., 0, 0, 0],\n",
              "         [0, 0, 0, ..., 0, 0, 0],\n",
              "         ...,\n",
              "         [0, 0, 0, ..., 0, 0, 0],\n",
              "         [0, 0, 0, ..., 0, 0, 0],\n",
              "         [0, 0, 0, ..., 0, 0, 0]]], dtype=uint8),\n",
              " -0.13045111553301442,\n",
              " False,\n",
              " {'dist': 0.29263333345307985,\n",
              "  'mirror1_normal': array([-1.55506485e-04,  7.07040135e-01, -7.07173404e-01]),\n",
              "  'mirror2_normal': array([ 6.66432440e-05, -7.07151209e-01,  7.07062348e-01]),\n",
              "  'proj_1': array([0., 0., 0.]),\n",
              "  'proj_2': array([-0.22117903, -0.19160924,  0.        ]),\n",
              "  'reflect_with_mirror1': 'center = [    0. -1000.   -10.], k = [-2.19940100e-04  9.99999958e-01 -1.88447191e-04]',\n",
              "  'reflect_with_mirror2': 'center = [ -0.21989867  -0.18840874 -10.18841169], k = [-1.25668641e-04 -3.14131619e-04  9.99999943e-01]',\n",
              "  'state_calc_time': 0.0035698413848876953,\n",
              "  'visib': 0.404351087771943})"
            ]
          },
          "metadata": {
            "tags": []
          },
          "execution_count": 2
        }
      ]
    },
    {
      "cell_type": "markdown",
      "metadata": {
        "id": "PYMzWQLgIl8g",
        "colab_type": "text"
      },
      "source": [
        "Next, we will need to implement a model that predicts logits and values. It is suggested that you use the same model as in [Nature DQN paper](https://web.stanford.edu/class/psych209/Readings/MnihEtAlHassibis15NatureControlDeepRL.pdf) with a modification that instead of having a single output layer, it will have two output layers taking as input the output of the last hidden layer. **Note** that this model is different from the model you used in homework where you implemented DQN. You can use your favorite deep learning framework here. We suggest that you use orthogonal initialization with parameter $\\sqrt{2}$ for kernels and initialize biases with zeros. "
      ]
    },
    {
      "cell_type": "code",
      "metadata": {
        "id": "67TMfsPOIl8l",
        "colab_type": "code",
        "outputId": "b0c2dbfe-65b8-45f3-dbca-e0137fe35cfa",
        "colab": {
          "base_uri": "https://localhost:8080/",
          "height": 34
        }
      },
      "source": [
        "import numpy as np\n",
        "import torch\n",
        "import torch.nn as nn\n",
        "from torch.autograd import Variable\n",
        "\n",
        "DEVICE = torch.device('cuda' if torch.cuda.is_available() else 'cpu')\n",
        "print(DEVICE)\n",
        "\n",
        "\n",
        "def ortho_weights(shape, scale=1.):\n",
        "    \"\"\" PyTorch port of ortho_init from baselines.a2c.utils \"\"\"\n",
        "    shape = tuple(shape)\n",
        "\n",
        "    if len(shape) == 2:\n",
        "        flat_shape = shape[1], shape[0]\n",
        "    elif len(shape) == 4:\n",
        "        flat_shape = (np.prod(shape[1:]), shape[0])\n",
        "    else:\n",
        "        raise NotImplementedError\n",
        "\n",
        "    a = np.random.normal(0., 1., flat_shape)\n",
        "    u, _, v = np.linalg.svd(a, full_matrices=False)\n",
        "    q = u if u.shape == flat_shape else v\n",
        "    q = q.transpose().copy().reshape(shape)\n",
        "\n",
        "    if len(shape) == 2:\n",
        "        return torch.from_numpy((scale * q).astype(np.float32))\n",
        "    if len(shape) == 4:\n",
        "        return torch.from_numpy((scale * q[:, :shape[1], :shape[2]]).astype(np.float32))\n",
        "\n",
        "\n",
        "def atari_initializer(module):\n",
        "    \"\"\" Parameter initializer for Atari models\n",
        "    Initializes Linear, Conv2d, and LSTM weights.\n",
        "    \"\"\"\n",
        "    classname = module.__class__.__name__\n",
        "\n",
        "    if classname == 'Linear':\n",
        "        module.weight.data = ortho_weights(module.weight.data.size(), scale=np.sqrt(2.))\n",
        "        module.bias.data.zero_()\n",
        "\n",
        "    elif classname == 'Conv2d':\n",
        "        module.weight.data = ortho_weights(module.weight.data.size(), scale=np.sqrt(2.))\n",
        "        module.bias.data.zero_()\n",
        "\n",
        "    elif classname == 'LSTM':\n",
        "        for name, param in module.named_parameters():\n",
        "            if 'weight_ih' in name:\n",
        "                param.data = ortho_weights(param.data.size(), scale=1.)\n",
        "            if 'weight_hh' in name:\n",
        "                param.data = ortho_weights(param.data.size(), scale=1.)\n",
        "            if 'bias' in name:\n",
        "                param.data.zero_()\n",
        "                \n",
        " \n",
        "def conv2d_size_out(size, kernel_size, stride):\n",
        "    \"\"\"\n",
        "    common use case:\n",
        "    cur_layer_img_w = conv2d_size_out(cur_layer_img_w, kernel_size, stride)\n",
        "    cur_layer_img_h = conv2d_size_out(cur_layer_img_h, kernel_size, stride)\n",
        "    to understand the shape for dense layer's input\n",
        "    \"\"\"\n",
        "    return (size - (kernel_size - 1) - 1) // stride  + 1\n",
        "\n",
        "\n",
        "class Flatten(nn.Module):\n",
        "    def __init__(self):\n",
        "        super().__init__()\n",
        "        \n",
        "    def forward(self, x):\n",
        "        return x.view(x.size(0), -1)\n",
        "\n",
        "\n",
        "class AtariCNN(nn.Module):\n",
        "    def __init__(self, num_actions, state_shape):\n",
        "        \"\"\" Basic convolutional actor-critic network for Atari 2600 games\n",
        "        Equivalent to the network in the original DQN paper.\n",
        "        Args:\n",
        "            num_actions (int): the number of available discrete actions\n",
        "        \"\"\"\n",
        "        super().__init__()\n",
        "\n",
        "        self.conv = nn.Sequential(nn.Conv2d(in_channels=state_shape[1], out_channels=32, kernel_size=8, stride=4),\n",
        "                                  nn.ReLU(),\n",
        "                                  nn.Conv2d(in_channels=32, out_channels=64, kernel_size=4, stride=2),\n",
        "                                  nn.ReLU(),\n",
        "                                  nn.Conv2d(in_channels=64, out_channels=64, kernel_size=3, stride=1),\n",
        "                                  nn.ReLU(),\n",
        "                                  Flatten())\n",
        "        \n",
        "        convw = conv2d_size_out(state_shape[2], kernel_size=8, stride=4)\n",
        "        convw = conv2d_size_out(convw, kernel_size=4, stride=2)\n",
        "        convw = conv2d_size_out(convw, kernel_size=3, stride=1)\n",
        "        \n",
        "        convh = conv2d_size_out(state_shape[3], kernel_size=8, stride=4)\n",
        "        convh = conv2d_size_out(convh, kernel_size=4, stride=2)\n",
        "        convh = conv2d_size_out(convh, kernel_size=3, stride=1)\n",
        "       \n",
        "        linear_input_size = convw * convh * 64\n",
        "        \n",
        "\n",
        "        self.fc = nn.Sequential(nn.Linear(linear_input_size, 512),\n",
        "                                nn.ReLU())\n",
        "\n",
        "        self.pi = nn.Linear(512, num_actions)\n",
        "        self.v = nn.Linear(512, 1)\n",
        "\n",
        "        self.num_actions = num_actions\n",
        "\n",
        "        # parameter initialization\n",
        "        self.apply(atari_initializer)\n",
        "        self.pi.weight.data = ortho_weights(self.pi.weight.size(), scale=.01)\n",
        "        self.v.weight.data = ortho_weights(self.v.weight.size())\n",
        "\n",
        "    def forward(self, x):\n",
        "        \"\"\" Module forward pass\n",
        "        Args:\n",
        "            x (Variable): convolutional input, shaped [batch_size x 4 x 84 x 84]\n",
        "        Returns:\n",
        "            pi (Variable): action probability logits, shaped [batch_size x self.num_actions]\n",
        "            v (Variable): value predictions, shaped [batch_size x 1]\n",
        "        \"\"\"\n",
        "        \n",
        "        conv_out = self.conv(x)\n",
        "\n",
        "        fc_out = self.fc(conv_out)\n",
        "\n",
        "        logits = self.pi(fc_out)\n",
        "        value = self.v(fc_out)\n",
        "\n",
        "        return logits, value\n",
        "\n"
      ],
      "execution_count": 0,
      "outputs": [
        {
          "output_type": "stream",
          "text": [
            "cuda\n"
          ],
          "name": "stdout"
        }
      ]
    },
    {
      "cell_type": "markdown",
      "metadata": {
        "id": "1xd-NtMhIl81",
        "colab_type": "text"
      },
      "source": [
        "You will also need to define and use a policy that wraps the model. While the model computes logits for all actions, the policy will sample actions and also compute their log probabilities.  `policy.act` should return a dictionary of all the arrays that are needed to interact with an environment and train the model.\n",
        " Note that actions must be an `np.ndarray` while the other\n",
        "tensors need to have the type determined by your deep learning framework. "
      ]
    },
    {
      "cell_type": "code",
      "metadata": {
        "id": "u5lMKc4pIl86",
        "colab_type": "code",
        "outputId": "f462782e-d29e-4970-cf96-4d026d4899de",
        "colab": {
          "base_uri": "https://localhost:8080/",
          "height": 486
        }
      },
      "source": [
        "import gym\n",
        "\n",
        "class ObserwationWrapper(gym.ObservationWrapper):\n",
        "    def __init__(self, env):\n",
        "        super().__init__(env)\n",
        "    \n",
        "    def observation(self, state):\n",
        "        return torch.tensor(state).float().to(DEVICE) / 255.0\n",
        "\n",
        "class Wrapper(gym.RewardWrapper):\n",
        "    def __init__(self, env):\n",
        "        super().__init__(env)\n",
        "    \n",
        "    def reward(self, rew):\n",
        "      return \n",
        "\n",
        "\n",
        "env = ObserwationWrapper(env)\n",
        "s = env.reset()\n",
        "print(s.shape)\n",
        "#s = s.transpose(0, 3, 1, 2)\n",
        "#s = torch.tensor(s)\n",
        "model = AtariCNN(N_ACTIONS, OBS_SHAPE).to(DEVICE)\n",
        "logits, values = model(s)\n",
        "print(logits)\n",
        "print(values)\n",
        "torch.distributions.Categorical(logits=logits).sample()"
      ],
      "execution_count": 0,
      "outputs": [
        {
          "output_type": "stream",
          "text": [
            "torch.Size([8, 16, 64, 64])\n",
            "tensor([[-5.6420e-04,  3.1890e-04,  1.8192e-04,  4.9066e-05, -7.4480e-04,\n",
            "          1.3221e-04, -2.8439e-04, -2.2046e-04],\n",
            "        [-5.1354e-04,  2.2078e-04,  1.8602e-04,  6.5593e-05, -7.0193e-04,\n",
            "          1.0611e-04, -3.0218e-04, -2.0284e-04],\n",
            "        [-2.2714e-04, -1.4496e-04, -9.8022e-05,  1.8906e-04, -7.3899e-04,\n",
            "          1.1946e-04, -2.8256e-04, -9.6771e-05],\n",
            "        [-5.7414e-04,  3.7194e-04, -5.3838e-04,  1.5668e-04, -8.0556e-04,\n",
            "         -1.7561e-05, -3.2927e-04,  6.9705e-05],\n",
            "        [-3.4780e-04, -1.0982e-04,  1.1432e-04,  7.9270e-05, -5.8134e-04,\n",
            "          8.5302e-05, -2.6302e-04, -8.7856e-05],\n",
            "        [-4.0671e-04,  2.9831e-04,  1.5120e-04,  3.3611e-04, -5.8840e-04,\n",
            "         -2.1981e-04, -7.5108e-05,  2.0074e-07],\n",
            "        [-3.6848e-04,  4.2497e-04, -4.0662e-04,  4.4155e-04, -5.5083e-04,\n",
            "         -1.4062e-04, -7.5928e-04,  2.9703e-04],\n",
            "        [-4.4910e-04,  5.5712e-04, -5.1982e-05,  5.1945e-04, -6.4804e-04,\n",
            "         -4.6253e-04, -5.1435e-04,  1.3470e-04]], device='cuda:0',\n",
            "       grad_fn=<AddmmBackward>)\n",
            "tensor([[0.0551],\n",
            "        [0.0615],\n",
            "        [0.0628],\n",
            "        [0.1114],\n",
            "        [0.0640],\n",
            "        [0.0820],\n",
            "        [0.0743],\n",
            "        [0.0969]], device='cuda:0', grad_fn=<AddmmBackward>)\n"
          ],
          "name": "stdout"
        },
        {
          "output_type": "execute_result",
          "data": {
            "text/plain": [
              "tensor([4, 3, 5, 5, 4, 5, 7, 0], device='cuda:0')"
            ]
          },
          "metadata": {
            "tags": []
          },
          "execution_count": 4
        }
      ]
    },
    {
      "cell_type": "code",
      "metadata": {
        "id": "bd875-z-Il9M",
        "colab_type": "code",
        "outputId": "5693b6d0-df57-4b58-efe4-38754741858a",
        "colab": {
          "base_uri": "https://localhost:8080/",
          "height": 225
        }
      },
      "source": [
        "a = torch.tensor(np.arange(16))\n",
        "a = a.reshape(4,4)\n",
        "print(a)\n",
        "a[:,3]\n",
        "actions = torch.tensor([0,1,3,1]).reshape(-1, 1)\n",
        "print('actions = ', actions)\n",
        "a.gather(1, actions)"
      ],
      "execution_count": 0,
      "outputs": [
        {
          "output_type": "stream",
          "text": [
            "tensor([[ 0,  1,  2,  3],\n",
            "        [ 4,  5,  6,  7],\n",
            "        [ 8,  9, 10, 11],\n",
            "        [12, 13, 14, 15]])\n",
            "actions =  tensor([[0],\n",
            "        [1],\n",
            "        [3],\n",
            "        [1]])\n"
          ],
          "name": "stdout"
        },
        {
          "output_type": "execute_result",
          "data": {
            "text/plain": [
              "tensor([[ 0],\n",
              "        [ 5],\n",
              "        [11],\n",
              "        [13]])"
            ]
          },
          "metadata": {
            "tags": []
          },
          "execution_count": 5
        }
      ]
    },
    {
      "cell_type": "code",
      "metadata": {
        "id": "QIlVt7s8Il9W",
        "colab_type": "code",
        "colab": {}
      },
      "source": [
        "from torch.nn import functional as F\n",
        "\n",
        "class Policy:\n",
        "  def __init__(self, model):\n",
        "    self.model = model\n",
        "    \n",
        "  def act(self, inputs, determ = False):\n",
        "    logits, values = self.model(inputs)\n",
        "    dist = torch.distributions.Categorical(logits=logits)\n",
        "\n",
        "    if determ:\n",
        "        actions = dist.probs.argmax(dim=1, keepdim=True)\n",
        "    else:\n",
        "        actions = dist.sample().view(-1, 1)\n",
        "\n",
        "    log_probs = F.log_softmax(logits, dim=1)\n",
        "    action_log_probs = log_probs.gather(1, actions)\n",
        "    \n",
        "    #print(actions.shape, logits.shape, action_log_probs.shape, values.shape)\n",
        "\n",
        "    return {\n",
        "        'actions': actions.reshape(-1).cpu().numpy(), \n",
        "        'logits': logits,\n",
        "        'log_probs': action_log_probs.reshape(-1), \n",
        "        'values': values.reshape(-1)\n",
        "    }\n",
        "    #<Implement policy by calling model, sampling actions and computing their log probs>\n",
        "    # Should return a dict containing keys ['actions', 'logits', 'log_probs', 'values']."
      ],
      "execution_count": 0,
      "outputs": []
    },
    {
      "cell_type": "code",
      "metadata": {
        "id": "tyrAF9bgIl9f",
        "colab_type": "code",
        "outputId": "6a2b0a94-34f9-4dbc-8cf2-222cf086f99f",
        "colab": {
          "base_uri": "https://localhost:8080/",
          "height": 399
        }
      },
      "source": [
        "model = AtariCNN(N_ACTIONS, OBS_SHAPE).to(DEVICE)\n",
        "policy = Policy(model)\n",
        "s = env.reset()       \n",
        "policy.act(s)"
      ],
      "execution_count": 0,
      "outputs": [
        {
          "output_type": "execute_result",
          "data": {
            "text/plain": [
              "{'actions': array([3, 3, 3, 0, 1, 1, 2, 4]),\n",
              " 'log_probs': tensor([-2.0788, -2.0788, -2.0789, -2.0791, -2.0795, -2.0794, -2.0792, -2.0801],\n",
              "        device='cuda:0', grad_fn=<AsStridedBackward>),\n",
              " 'logits': tensor([[ 5.6354e-04,  2.0258e-04, -2.5042e-04,  7.8558e-04, -3.8651e-04,\n",
              "           3.0532e-04, -2.8741e-04,  2.0688e-04],\n",
              "         [ 5.5880e-04,  8.9412e-05, -5.8416e-05,  8.0789e-04, -9.8688e-05,\n",
              "           3.1093e-04,  4.3623e-05, -3.2974e-05],\n",
              "         [ 5.5084e-04,  2.2745e-04, -2.2706e-04,  7.3374e-04, -4.5139e-04,\n",
              "           1.3801e-04, -7.5920e-05,  3.0627e-04],\n",
              "         [ 5.2827e-04,  2.6125e-04,  5.4093e-04,  8.2469e-04, -6.2756e-04,\n",
              "           3.6967e-05, -1.0455e-04, -1.5058e-04],\n",
              "         [ 5.2427e-04, -2.1275e-05,  2.1329e-04,  3.4558e-04, -4.8489e-04,\n",
              "           3.2988e-05, -1.7282e-04,  5.7535e-05],\n",
              "         [ 4.0834e-04,  1.3013e-04,  1.8019e-04,  4.8366e-04, -5.0882e-04,\n",
              "          -2.6917e-04, -7.3703e-05,  3.1953e-04],\n",
              "         [ 3.0559e-04, -9.3914e-05,  2.0074e-04,  4.8893e-04, -5.5056e-04,\n",
              "          -1.7337e-04, -2.9942e-04, -3.9766e-05],\n",
              "         [ 5.0943e-04,  2.2765e-04,  4.3637e-04,  5.1256e-04, -5.9497e-04,\n",
              "           1.1743e-04,  2.2816e-05, -3.4506e-04]], device='cuda:0',\n",
              "        grad_fn=<AddmmBackward>),\n",
              " 'values': tensor([-0.0055, -0.0178,  0.0335,  0.0105,  0.0268, -0.0172, -0.0096,  0.0160],\n",
              "        device='cuda:0', grad_fn=<AsStridedBackward>)}"
            ]
          },
          "metadata": {
            "tags": []
          },
          "execution_count": 7
        }
      ]
    },
    {
      "cell_type": "markdown",
      "metadata": {
        "id": "V7e67LokIl9q",
        "colab_type": "text"
      },
      "source": [
        "Next will pass the environment and policy to a runner that collects partial trajectories from the environment. \n",
        "The class that does is is already implemented for you."
      ]
    },
    {
      "cell_type": "code",
      "metadata": {
        "id": "HUJZSPT7Il9u",
        "colab_type": "code",
        "colab": {}
      },
      "source": [
        "\"\"\" RL env runner \"\"\"\n",
        "from collections import defaultdict\n",
        "import numpy as np\n",
        "\n",
        "\n",
        "class EnvRunner:\n",
        "  \"\"\" Reinforcement learning runner in an environment with given policy \"\"\"\n",
        "  def __init__(self, env, policy, nsteps,\n",
        "               transforms=None, step_var=None):\n",
        "    self.env = env\n",
        "    self.policy = policy\n",
        "    self.nsteps = nsteps\n",
        "    self.transforms = transforms or []\n",
        "    self.step_var = step_var if step_var is not None else 0\n",
        "    self.state = {\"latest_observation\": self.env.reset()}\n",
        "\n",
        "  @property\n",
        "  def nenvs(self):\n",
        "    \"\"\" Returns number of batched envs or `None` if env is not batched \"\"\"\n",
        "    return getattr(self.env.unwrapped, \"nenvs\", None)\n",
        "\n",
        "  def reset(self):\n",
        "    \"\"\" Resets env and runner states. \"\"\"\n",
        "    self.state[\"latest_observation\"] = self.env.reset()\n",
        "\n",
        "  def get_next(self):\n",
        "    \"\"\" Runs the agent in the environment.  \"\"\"\n",
        "    trajectory = defaultdict(list, {\"actions\": []})\n",
        "    observations = []\n",
        "    rewards = []\n",
        "    resets = []\n",
        "    self.state[\"env_steps\"] = self.nsteps\n",
        "\n",
        "    for i in range(self.nsteps):\n",
        "      observations.append(self.state[\"latest_observation\"])\n",
        "      act = self.policy.act(self.state[\"latest_observation\"])\n",
        "      if \"actions\" not in act:\n",
        "        raise ValueError(\"result of policy.act must contain 'actions' \"\n",
        "                         f\"but has keys {list(act.keys())}\")\n",
        "      for key, val in act.items():\n",
        "        trajectory[key].append(val)\n",
        "\n",
        "      obs, rew, done, _ = self.env.step(trajectory[\"actions\"][-1])\n",
        "      self.state[\"latest_observation\"] = obs\n",
        "      rewards.append(rew)\n",
        "      resets.append(done)\n",
        "      self.step_var += self.nenvs or 1\n",
        "\n",
        "      # Only reset if the env is not batched. Batched envs should auto-reset.\n",
        "      if not self.nenvs and np.all(done):\n",
        "        self.state[\"env_steps\"] = i + 1\n",
        "        self.state[\"latest_observation\"] = self.env.reset()\n",
        "\n",
        "    trajectory.update(observations=observations, rewards=rewards, resets=resets)\n",
        "    trajectory[\"state\"] = self.state\n",
        "\n",
        "    for transform in self.transforms:\n",
        "      transform(trajectory)\n",
        "    return trajectory\n"
      ],
      "execution_count": 0,
      "outputs": []
    },
    {
      "cell_type": "markdown",
      "metadata": {
        "id": "HYpcA3Z6Il-D",
        "colab_type": "text"
      },
      "source": [
        "This runner interacts with the environment for a given number of steps and returns a dictionary containing\n",
        "keys \n",
        "\n",
        "* 'observations' \n",
        "* 'rewards' \n",
        "* 'resets'\n",
        "* 'actions'\n",
        "* all other keys that you defined in `Policy`\n",
        "\n",
        "under each of these keys there is a python `list` of interactions with the environment of specified length $T$ &mdash; the size of partial trajectory. "
      ]
    },
    {
      "cell_type": "markdown",
      "metadata": {
        "id": "FGX69Q2DIl-K",
        "colab_type": "text"
      },
      "source": [
        "To train the part of the model that predicts state values you will need to compute the value targets. \n",
        "Any callable could be passed to `EnvRunner` to be applied to each partial trajectory after it is collected. \n",
        "Thus, we can implement and use `ComputeValueTargets` callable. \n",
        "The formula for the value targets is simple:\n",
        "\n",
        "$$\n",
        "\\hat v(s_t) = \\sum_{t'=0}^{T - 1}\\gamma^{t'}r_{t+t'} + \\gamma^T \\hat{v}(s_{t+T}),\n",
        "$$\n",
        "\n",
        "In implementation, however, do not forget to use \n",
        "`trajectory['resets']` flags to check if you need to add the value targets at the next step when \n",
        "computing value targets for the current step. You can access `trajectory['state']['latest_observation']`\n",
        "to get last observations in partial trajectory &mdash; $s_{t+T}$."
      ]
    },
    {
      "cell_type": "code",
      "metadata": {
        "id": "jWyIxmtMIl-M",
        "colab_type": "code",
        "colab": {}
      },
      "source": [
        "class ComputeValueTargets:\n",
        "  def __init__(self, policy, gamma=0.99):\n",
        "    self.policy = policy\n",
        "    self.gamma = gamma\n",
        "    \n",
        "  def __call__(self, trajectory):\n",
        "    value_target = policy.act(trajectory['state']['latest_observation'])['values']\n",
        "    env_steps = trajectory['state']['env_steps']\n",
        "    rewards = torch.tensor(trajectory['rewards'], dtype=torch.float).to(DEVICE)\n",
        "    dones = torch.tensor(trajectory['resets'], dtype=torch.float).to(DEVICE)\n",
        "    is_not_done = 1 - dones\n",
        "\n",
        "    trajectory['value_targets'] = [0] * env_steps\n",
        "    for i in range(env_steps):\n",
        "        j = env_steps - i - 1\n",
        "        value_target = rewards[j] + value_target * self.gamma * is_not_done[j]\n",
        "        trajectory['value_targets'][j] = value_target\n",
        "\n",
        "\n",
        "    # This method should modify trajectory inplace by adding \n",
        "    # an item with key 'value_targets' to it. \n",
        "    #<Compute value targets for a given partial trajectory>"
      ],
      "execution_count": 0,
      "outputs": []
    },
    {
      "cell_type": "markdown",
      "metadata": {
        "id": "fh_Vq2IvIl-S",
        "colab_type": "text"
      },
      "source": [
        "After computing value targets we will transform lists of interactions into tensors\n",
        "with the first dimension `batch_size` which is equal to `T * nenvs`, i.e. you essentially need\n",
        "to flatten the first two dimensions. "
      ]
    },
    {
      "cell_type": "code",
      "metadata": {
        "id": "5N5ev_tRIl-U",
        "colab_type": "code",
        "colab": {}
      },
      "source": [
        "class MergeTimeBatch:\n",
        "  \"\"\" Merges first two axes typically representing time and env batch. \"\"\"\n",
        "  def __call__(self, trajectory):\n",
        "    # Modify trajectory inplace. \n",
        "    #<TODO: implement>\n",
        "    #'actions', 'logits', 'log_probs', 'values', 'observations', 'rewards', 'resets', 'state', 'value_targets'\n",
        "        \n",
        "    trajectory['value_targets'] = torch.stack(trajectory['value_targets'])\n",
        "    trajectory['value_targets'] = trajectory['value_targets'].flatten(0, 1)\n",
        "    trajectory['values'] = torch.stack(trajectory['values']).flatten(0, 1)\n",
        "    trajectory['logits'] = torch.stack(trajectory['logits']).flatten(0, 1)\n",
        "    trajectory['log_probs'] = torch.stack(trajectory['log_probs']).flatten(0, 1)\n",
        "    \n",
        "    \n"
      ],
      "execution_count": 0,
      "outputs": []
    },
    {
      "cell_type": "code",
      "metadata": {
        "id": "MdTaYTIYIl-c",
        "colab_type": "code",
        "colab": {}
      },
      "source": [
        "model = AtariCNN(N_ACTIONS, OBS_SHAPE).to(DEVICE)\n",
        "policy = Policy(model)\n",
        "runner = EnvRunner(env, policy, nsteps=N_STEPS,\n",
        "                   transforms=[ComputeValueTargets(policy),\n",
        "                               MergeTimeBatch()])\n",
        "\n",
        "\n",
        "trajectory = runner.get_next()"
      ],
      "execution_count": 0,
      "outputs": []
    },
    {
      "cell_type": "markdown",
      "metadata": {
        "id": "s3uYsxqbIl-m",
        "colab_type": "text"
      },
      "source": [
        "Now is the time to implement the advantage actor critic algorithm itself. You can look into your lecture,\n",
        "[Mnih et al. 2016](https://arxiv.org/abs/1602.01783) paper, and [lecture](https://www.youtube.com/watch?v=Tol_jw5hWnI&list=PLkFD6_40KJIxJMR-j5A1mkxK26gh_qg37&index=20) by Sergey Levine."
      ]
    },
    {
      "cell_type": "code",
      "metadata": {
        "id": "3GgL-VfDIl-q",
        "colab_type": "code",
        "colab": {}
      },
      "source": [
        "import torch.nn as nn\n",
        "\n",
        "class A2C:\n",
        "  def __init__(self,\n",
        "               policy,\n",
        "               optimizer,\n",
        "               value_loss_coef=0.25,\n",
        "               entropy_coef=0.01,\n",
        "               max_grad_norm=0.5):\n",
        "    self.policy = policy\n",
        "    self.optimizer = optimizer\n",
        "    self.value_loss_coef = value_loss_coef\n",
        "    self.entropy_coef = entropy_coef\n",
        "    self.max_grad_norm = max_grad_norm\n",
        "    \n",
        "    self.ploss = None\n",
        "    self.vloss = None\n",
        "    self.a2c_loss = None\n",
        "    \n",
        "    self.vtargets = None\n",
        "    self.values = None\n",
        "    self.advantage = None\n",
        "    self.entropy = None\n",
        "    \n",
        "    self.grad_norm = None\n",
        "    \n",
        "  def policy_loss(self, trajectory):\n",
        "    advantage = trajectory['value_targets'] - trajectory['values']\n",
        "    \n",
        "    logits = trajectory['logits']\n",
        "    probs = nn.functional.softmax(logits, dim=-1)\n",
        "    logprobs = nn.functional.log_softmax(logits, dim=-1)\n",
        "    \n",
        "    entropy = -torch.sum(probs * logprobs, dim=-1)\n",
        "\n",
        "    actor_loss = -torch.mean(trajectory['log_probs'] * advantage.detach()) - self.entropy_coef * torch.mean(entropy)\n",
        "    \n",
        "    self.ploss = actor_loss.item()\n",
        "    self.vtargets = torch.mean(trajectory['value_targets']).item()\n",
        "    self.values = torch.mean(trajectory['values']).item()\n",
        "    self.advantage = torch.mean(advantage).item()\n",
        "    self.entropy = torch.mean(entropy).item()\n",
        "    \n",
        "    return actor_loss\n",
        " \n",
        "  def value_loss(self, trajectory):\n",
        "    critic_loss = torch.mean((trajectory['values'] - trajectory['value_targets'].detach())**2)\n",
        "    self.vloss = critic_loss.item()\n",
        "    return critic_loss\n",
        "    \n",
        "  def loss(self, trajectory):\n",
        "    total_loss = self.policy_loss(trajectory) + self.value_loss_coef * self.value_loss(trajectory)\n",
        "    self.a2c_loss = total_loss.item()\n",
        "    return total_loss\n",
        "      \n",
        "  def step(self, trajectory):\n",
        "    self.optimizer.zero_grad()\n",
        "    self.loss(trajectory).backward()\n",
        "    self.grad_norm = nn.utils.clip_grad_norm_(agent.parameters(), self.max_grad_norm)\n",
        "    self.optimizer.step()"
      ],
      "execution_count": 0,
      "outputs": []
    },
    {
      "cell_type": "markdown",
      "metadata": {
        "id": "1-inAO_NIl-u",
        "colab_type": "text"
      },
      "source": [
        "Now you can train your model. With reasonable hyperparameters training on a single GTX1080 for 10 million steps across all batched environments (which translates to about 5 hours of wall clock time)\n",
        "it should be possible to achieve *average raw reward over last 100 episodes* (the average is taken over 100 last \n",
        "episodes in each environment in the batch) of about 600. You should plot this quantity with respect to \n",
        "`runner.step_var` &mdash; the number of interactions with all environments. It is highly \n",
        "encouraged to also provide plots of the following quantities (these are useful for debugging as well):\n",
        "\n",
        "* [Coefficient of Determination](https://en.wikipedia.org/wiki/Coefficient_of_determination) between \n",
        "value targets and value predictions\n",
        "* Entropy of the policy $\\pi$\n",
        "* Value loss\n",
        "* Policy loss\n",
        "* Value targets\n",
        "* Value predictions\n",
        "* Gradient norm\n",
        "* Advantages\n",
        "* A2C loss\n",
        "\n",
        "For optimization we suggest you use RMSProp with learning rate starting from 7e-4 and linearly decayed to 0, smoothing constant (alpha in PyTorch and decay in TensorFlow) equal to 0.99 and epsilon equal to 1e-5."
      ]
    },
    {
      "cell_type": "code",
      "metadata": {
        "id": "uAynSgnKIl-0",
        "colab_type": "code",
        "outputId": "1041d8b3-9cfc-4738-d20c-2c3578a1bd62",
        "colab": {
          "base_uri": "https://localhost:8080/",
          "height": 570
        }
      },
      "source": [
        "%matplotlib inline\n",
        "\n",
        "from tqdm import trange\n",
        "from matplotlib import pyplot as plt\n",
        "from IPython.display import clear_output\n",
        "import numpy as np\n",
        "\n",
        "\n",
        "\n",
        "agent = AtariCNN(N_ACTIONS, OBS_SHAPE).to(DEVICE)\n",
        "opt = torch.optim.RMSprop(agent.parameters(), lr=7e-4, alpha=0.99, eps=1e-5)\n",
        "policy = Policy(agent)\n",
        "a2c = A2C(policy, opt)\n",
        "runner = EnvRunner(env, policy, nsteps=N_STEPS, transforms=[ComputeValueTargets(policy), MergeTimeBatch()])\n",
        "runner.reset()\n",
        "\n",
        "entropis = []\n",
        "mean_entropis = []\n",
        "\n",
        "vlosses = []\n",
        "mean_vlosses = []\n",
        "\n",
        "plosses = []\n",
        "mean_plosses = []\n",
        "\n",
        "vtargets = []\n",
        "mean_vtargets = []\n",
        "\n",
        "vpredictions = []\n",
        "mean_vpredictions = []\n",
        "\n",
        "grad_norms = []\n",
        "mean_grad_norms = []\n",
        "\n",
        "advantages = []\n",
        "mean_advantages = []\n",
        "\n",
        "a2c_losses = []\n",
        "mean_a2c_losses = []\n",
        "\n",
        "mean_rewards = []\n",
        "rewards = np.zeros(N_ENVS, dtype=float)\n",
        "dones = np.zeros(N_ENVS, dtype=float)\n",
        "\n",
        "mean_steps = []\n",
        "steps = np.zeros(N_ENVS, dtype=float)\n",
        "\n",
        "\n",
        "for i in trange(0, int(1e7), N_ENVS * N_STEPS):\n",
        "    trajectory = runner.get_next()\n",
        "    a2c.step(trajectory)\n",
        "    \n",
        "    for batch_rewards, batch_dones in zip(trajectory['rewards'], trajectory['resets']):\n",
        "        rewards += batch_rewards\n",
        "        dones += batch_dones\n",
        "        steps += 1\n",
        "    \n",
        "    entropis.append(a2c.entropy)\n",
        "    vlosses.append(a2c.vloss)\n",
        "    plosses.append(a2c.ploss)\n",
        "    vtargets.append(a2c.vtargets)\n",
        "    vpredictions.append(a2c.values)\n",
        "    grad_norms.append(a2c.grad_norm)\n",
        "    advantages.append(a2c.advantage)\n",
        "    a2c_losses.append(a2c.a2c_loss)\n",
        "        \n",
        "    if np.sum(dones) >= 100:\n",
        "        mean_entropis.append(np.mean(entropis))\n",
        "        mean_vlosses.append(np.mean(vlosses))\n",
        "        mean_plosses.append(np.mean(plosses))\n",
        "        mean_vtargets.append(np.mean(vtargets))\n",
        "        mean_vpredictions.append(np.mean(vpredictions))\n",
        "        mean_grad_norms.append(np.mean(grad_norms))\n",
        "        mean_advantages.append(np.mean(advantages))\n",
        "        mean_a2c_losses.append(np.mean(a2c_losses))\n",
        "\n",
        "        \n",
        "        clear_output(True)\n",
        "        plt.figure(figsize=[16, 9])\n",
        "        \n",
        "        plt.subplot(2, 4, 1)\n",
        "        plt.plot(mean_entropis, label='entropy')\n",
        "        plt.title(\"Policy entropy\")\n",
        "        plt.grid()\n",
        "        plt.legend()\n",
        "        \n",
        "        plt.subplot(2, 4, 2)\n",
        "        plt.plot(mean_vlosses, label='value loss')\n",
        "        plt.title(\"Value losses\")\n",
        "        plt.grid()\n",
        "        plt.legend()\n",
        "        \n",
        "        plt.subplot(2, 4, 3)\n",
        "        plt.plot(mean_plosses, label='policy loss')\n",
        "        plt.title(\"Policy losses\")\n",
        "        plt.grid()\n",
        "        plt.legend()\n",
        "        \n",
        "        #plt.subplot(2, 4, 4)\n",
        "        #plt.plot(mean_vtargets, label='value targets')\n",
        "        #plt.plot(mean_vpredictions, label='value predictions')\n",
        "        #plt.title(\"Value targets / predictions\")\n",
        "        #plt.grid()\n",
        "        #plt.legend()\n",
        "        \n",
        "        plt.subplot(2, 4, 4)\n",
        "        mean_steps.append(np.mean(steps / dones))\n",
        "        plt.plot(mean_steps, label='mean #steps')\n",
        "        plt.title('mean #steps')\n",
        "        plt.grid()\n",
        "        plt.legend()\n",
        "        \n",
        "        plt.subplot(2, 4, 5)\n",
        "        plt.plot(mean_grad_norms, label='gradient norms')\n",
        "        plt.title(\"Gradient norms\")\n",
        "        plt.grid()\n",
        "        plt.legend()\n",
        "        \n",
        "        plt.subplot(2, 4, 6)\n",
        "        plt.plot(mean_advantages, label='advantages')\n",
        "        plt.title(\"Advantages\")\n",
        "        plt.grid()\n",
        "        plt.legend()\n",
        "        \n",
        "        plt.subplot(2, 4, 7)\n",
        "        plt.plot(mean_a2c_losses, label='total loss')\n",
        "        plt.title(\"Total loss\")\n",
        "        plt.grid()\n",
        "        plt.legend()\n",
        "        \n",
        "        plt.subplot(2, 4, 8)\n",
        "        mean_rewards.append(np.sum(rewards) / np.sum(dones))\n",
        "        plt.plot(mean_rewards, label='aver rewards')\n",
        "        plt.title(\"Aver rewards\")\n",
        "        plt.grid()\n",
        "        plt.legend()\n",
        "        \n",
        "        plt.show()\n",
        "        \n",
        "        entropis = []\n",
        "        vlosses = []\n",
        "        plosses = []\n",
        "        vtargets = []\n",
        "        vpredictions = []\n",
        "        grad_norms = []\n",
        "        advantages = []\n",
        "        a2c_losses = []\n",
        "        rewards = np.zeros(N_ENVS, dtype=float)\n",
        "        dones = np.zeros(N_ENVS, dtype=float)\n",
        "        steps = np.zeros(N_ENVS, dtype=float)\n",
        "\n",
        "       "
      ],
      "execution_count": 14,
      "outputs": [
        {
          "output_type": "display_data",
          "data": {
            "image/png": "[encoded data removed]",
            "text/plain": [
              "<Figure size 1152x648 with 8 Axes>"
            ]
          },
          "metadata": {
            "tags": []
          }
        },
        {
          "output_type": "stream",
          "text": [
            " 21%|██        | 51381/250000 [1:46:58<7:33:14,  7.30it/s]"
          ],
          "name": "stderr"
        },
        {
          "output_type": "stream",
          "text": [
            "Buffered data was truncated after reaching the output size limit."
          ],
          "name": "stdout"
        }
      ]
    },
    {
      "cell_type": "code",
      "metadata": {
        "id": "e5u7-w02Il-8",
        "colab_type": "code",
        "colab": {
          "base_uri": "https://localhost:8080/",
          "height": 189
        },
        "outputId": "e96d8ce9-642b-4807-ee19-b7a5e2afc479"
      },
      "source": [
        "from google.colab import drive\n",
        "drive.mount('/content/drive/')"
      ],
      "execution_count": 16,
      "outputs": [
        {
          "output_type": "stream",
          "text": [
            "Go to this URL in a browser: https://accounts.google.com/o/oauth2/auth?client_id=947318989803-6bn6qk8qdgf4n4g3pfee6491hc0brc4i.apps.googleusercontent.com&redirect_uri=urn%3Aietf%3Awg%3Aoauth%3A2.0%3Aoob&scope=email%20https%3A%2F%2Fwww.googleapis.com%2Fauth%2Fdocs.test%20https%3A%2F%2Fwww.googleapis.com%2Fauth%2Fdrive%20https%3A%2F%2Fwww.googleapis.com%2Fauth%2Fdrive.photos.readonly%20https%3A%2F%2Fwww.googleapis.com%2Fauth%2Fpeopleapi.readonly&response_type=code\n",
            "\n",
            "Enter your authorization code:\n",
            "··········\n",
            "Mounted at /content/drive/\n"
          ],
          "name": "stdout"
        }
      ]
    },
    {
      "cell_type": "code",
      "metadata": {
        "id": "gfFCqTPjVn3H",
        "colab_type": "code",
        "colab": {}
      },
      "source": [
        "torch.save(agent.state_dict(), 'drive/My Drive/colab/a2c_interf_v2')"
      ],
      "execution_count": 0,
      "outputs": []
    },
    {
      "cell_type": "code",
      "metadata": {
        "id": "fQqro-2WIl_K",
        "colab_type": "code",
        "colab": {}
      },
      "source": [
        ""
      ],
      "execution_count": 0,
      "outputs": []
    },
    {
      "cell_type": "code",
      "metadata": {
        "id": "ihVVgXu5gRek",
        "colab_type": "code",
        "colab": {
          "base_uri": "https://localhost:8080/",
          "height": 34
        },
        "outputId": "ce90286c-d7d8-4ce3-c122-880ea0665d41"
      },
      "source": [
        "env = gym.make('interf-v1')\n",
        "s = env.reset()\n",
        "done = False\n",
        "visib_start = env.visib\n",
        "\n",
        "while not done:\n",
        "  a = policy.act(torch.tensor([s]).float().to(DEVICE) / 255.0)['actions'][0]\n",
        "  s, r, done, info = env.step(a)\n",
        "\n",
        "visib_end = env.visib\n",
        "\n",
        "print('delta visib', visib_start, visib_end)"
      ],
      "execution_count": 39,
      "outputs": [
        {
          "output_type": "stream",
          "text": [
            "delta visib 0.5491762356465302 0.04380475594493116\n"
          ],
          "name": "stdout"
        }
      ]
    },
    {
      "cell_type": "code",
      "metadata": {
        "id": "fW8cKjiTgUsu",
        "colab_type": "code",
        "colab": {}
      },
      "source": [
        ""
      ],
      "execution_count": 0,
      "outputs": []
    }
  ]
}