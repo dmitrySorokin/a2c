{
  "nbformat": 4,
  "nbformat_minor": 0,
  "metadata": {
    "colab": {
      "name": "a2c_cuda.ipynb",
      "version": "0.3.2",
      "provenance": []
    },
    "language_info": {
      "codemirror_mode": {
        "name": "ipython",
        "version": 3
      },
      "file_extension": ".py",
      "mimetype": "text/x-python",
      "name": "python",
      "nbconvert_exporter": "python",
      "pygments_lexer": "ipython3",
      "version": "3.6.7"
    },
    "kernelspec": {
      "name": "python3",
      "display_name": "Python 3"
    },
    "accelerator": "GPU"
  },
  "cells": [
    {
      "cell_type": "code",
      "metadata": {
        "id": "ZLYhgPAoIl72",
        "colab_type": "code",
        "colab": {
          "base_uri": "https://localhost:8080/",
          "height": 1062
        },
        "outputId": "cbd9ebe7-5eb5-4638-f6fd-0d742248e7b9"
      },
      "source": [
        "# # in google colab uncomment this\n",
        "\n",
        "\n",
        "!wget https://raw.githubusercontent.com/dmitrySorokin/Practical_RL/spring19/week06_policy_based/env_batch.py\n",
        "!wget https://raw.githubusercontent.com/dmitrySorokin/Practical_RL/spring19/week06_policy_based/atari_wrappers.py\n",
        "!apt-get install -y python-opengl ffmpeg\n",
        "!pip install pyglet==1.2.4\n",
        "!python -m pip install -U pygame --user\n",
        "\n",
        "print('setup complete')\n",
        "\n",
        "# XVFB will be launched if you run on a server\n",
        "import os\n",
        "if type(os.environ.get(\"DISPLAY\")) is not str or len(os.environ.get(\"DISPLAY\")) == 0:\n",
        "    !bash ../xvfb start\n",
        "    %env DISPLAY = : 1"
      ],
      "execution_count": 2,
      "outputs": [
        {
          "output_type": "stream",
          "text": [
            "--2019-05-21 11:55:49--  https://raw.githubusercontent.com/dmitrySorokin/Practical_RL/spring19/week06_policy_based/env_batch.py\n",
            "Resolving raw.githubusercontent.com (raw.githubusercontent.com)... 151.101.0.133, 151.101.64.133, 151.101.128.133, ...\n",
            "Connecting to raw.githubusercontent.com (raw.githubusercontent.com)|151.101.0.133|:443... connected.\n",
            "HTTP request sent, awaiting response... 200 OK\n",
            "Length: 6260 (6.1K) [text/plain]\n",
            "Saving to: ‘env_batch.py’\n",
            "\n",
            "\renv_batch.py          0%[                    ]       0  --.-KB/s               \renv_batch.py        100%[===================>]   6.11K  --.-KB/s    in 0s      \n",
            "\n",
            "2019-05-21 11:55:49 (132 MB/s) - ‘env_batch.py’ saved [6260/6260]\n",
            "\n",
            "--2019-05-21 11:55:50--  https://raw.githubusercontent.com/dmitrySorokin/Practical_RL/spring19/week06_policy_based/atari_wrappers.py\n",
            "Resolving raw.githubusercontent.com (raw.githubusercontent.com)... 151.101.0.133, 151.101.64.133, 151.101.128.133, ...\n",
            "Connecting to raw.githubusercontent.com (raw.githubusercontent.com)|151.101.0.133|:443... connected.\n",
            "HTTP request sent, awaiting response... 200 OK\n",
            "Length: 10265 (10K) [text/plain]\n",
            "Saving to: ‘atari_wrappers.py’\n",
            "\n",
            "atari_wrappers.py   100%[===================>]  10.02K  --.-KB/s    in 0s      \n",
            "\n",
            "2019-05-21 11:55:50 (132 MB/s) - ‘atari_wrappers.py’ saved [10265/10265]\n",
            "\n",
            "Reading package lists... Done\n",
            "Building dependency tree       \n",
            "Reading state information... Done\n",
            "ffmpeg is already the newest version (7:3.4.6-0ubuntu0.18.04.1).\n",
            "The following package was automatically installed and is no longer required:\n",
            "  libnvidia-common-410\n",
            "Use 'apt autoremove' to remove it.\n",
            "Suggested packages:\n",
            "  libgle3\n",
            "The following NEW packages will be installed:\n",
            "  python-opengl\n",
            "0 upgraded, 1 newly installed, 0 to remove and 7 not upgraded.\n",
            "Need to get 496 kB of archives.\n",
            "After this operation, 5,416 kB of additional disk space will be used.\n",
            "Get:1 http://archive.ubuntu.com/ubuntu bionic/universe amd64 python-opengl all 3.1.0+dfsg-1 [496 kB]\n",
            "Fetched 496 kB in 1s (430 kB/s)\n",
            "Selecting previously unselected package python-opengl.\n",
            "(Reading database ... 130824 files and directories currently installed.)\n",
            "Preparing to unpack .../python-opengl_3.1.0+dfsg-1_all.deb ...\n",
            "Unpacking python-opengl (3.1.0+dfsg-1) ...\n",
            "Setting up python-opengl (3.1.0+dfsg-1) ...\n",
            "Collecting pyglet==1.2.4\n",
            "\u001b[?25l  Downloading https://files.pythonhosted.org/packages/68/c3/300c6f92b21886b0fe42c13f3a39a06c6cb90c9fbb1b71da85fe59091a7d/pyglet-1.2.4-py3-none-any.whl (964kB)\n",
            "\u001b[K     |████████████████████████████████| 972kB 4.8MB/s \n",
            "\u001b[?25hInstalling collected packages: pyglet\n",
            "  Found existing installation: pyglet 1.3.2\n",
            "    Uninstalling pyglet-1.3.2:\n",
            "      Successfully uninstalled pyglet-1.3.2\n",
            "Successfully installed pyglet-1.2.4\n",
            "Collecting pygame\n",
            "\u001b[?25l  Downloading https://files.pythonhosted.org/packages/8e/24/ede6428359f913ed9cd1643dd5533aefeb5a2699cc95bea089de50ead586/pygame-1.9.6-cp36-cp36m-manylinux1_x86_64.whl (11.4MB)\n",
            "\u001b[K     |████████████████████████████████| 11.4MB 4.9MB/s \n",
            "\u001b[?25hInstalling collected packages: pygame\n",
            "Successfully installed pygame-1.9.6\n",
            "setup complete\n",
            "bash: ../xvfb: No such file or directory\n",
            "env: DISPLAY=: 1\n"
          ],
          "name": "stdout"
        }
      ]
    },
    {
      "cell_type": "code",
      "metadata": {
        "id": "3li8ux2rPNlJ",
        "colab_type": "code",
        "colab": {
          "base_uri": "https://localhost:8080/",
          "height": 34
        },
        "outputId": "fc81d38c-3636-42a7-9069-66a10753a758"
      },
      "source": [
        "!ls"
      ],
      "execution_count": 3,
      "outputs": [
        {
          "output_type": "stream",
          "text": [
            "atari_wrappers.py  env_batch.py  sample_data\n"
          ],
          "name": "stdout"
        }
      ]
    },
    {
      "cell_type": "markdown",
      "metadata": {
        "id": "-NnCsQ0LIl8M",
        "colab_type": "text"
      },
      "source": [
        "# Implementing Advantage-Actor Critic (A2C)"
      ]
    },
    {
      "cell_type": "markdown",
      "metadata": {
        "id": "3nmvRL8fIl8R",
        "colab_type": "text"
      },
      "source": [
        "In this notebook you will implement Advantage Actor Critic algorithm that trains on a batch of Atari 2600 environments running in parallel. \n",
        "\n",
        "Firstly, we will use environment wrappers implemented in file `atari_wrappers.py`. These wrappers preprocess observations (resize, grayscal, take max between frames, skip frames and stack them together) and rewards. Some of the wrappers help to reset the environment and pass `done` flag equal to `True` when agent dies.\n",
        "File `env_batch.py` includes implementation of `ParallelEnvBatch` class that allows to run multiple environments in parallel. To create an environment we can use `nature_dqn_env` function. Note that if you are using \n",
        "PyTorch and not using `tensorboardX` you will need to implement a wrapper that will log **raw** total rewards that the *unwrapped* environment returns and redefine the implemention of `nature_dqn_env` function here. \n",
        "\n"
      ]
    },
    {
      "cell_type": "code",
      "metadata": {
        "id": "epnPVTlwIl8S",
        "colab_type": "code",
        "colab": {}
      },
      "source": [
        "import numpy as np\n",
        "from atari_wrappers import nature_dqn_env\n",
        "\n",
        "\n",
        "N_ENVS = 8\n",
        "env = nature_dqn_env(\"SpaceInvadersNoFrameskip-v4\", nenvs=N_ENVS)\n",
        "obs = env.reset()\n",
        "N_ACTIONS = env.action_space.n\n",
        "assert obs.shape == (8, 84, 84, 4), obs.shape\n",
        "assert obs.dtype == np.uint8"
      ],
      "execution_count": 0,
      "outputs": []
    },
    {
      "cell_type": "markdown",
      "metadata": {
        "id": "PYMzWQLgIl8g",
        "colab_type": "text"
      },
      "source": [
        "Next, we will need to implement a model that predicts logits and values. It is suggested that you use the same model as in [Nature DQN paper](https://web.stanford.edu/class/psych209/Readings/MnihEtAlHassibis15NatureControlDeepRL.pdf) with a modification that instead of having a single output layer, it will have two output layers taking as input the output of the last hidden layer. **Note** that this model is different from the model you used in homework where you implemented DQN. You can use your favorite deep learning framework here. We suggest that you use orthogonal initialization with parameter $\\sqrt{2}$ for kernels and initialize biases with zeros. "
      ]
    },
    {
      "cell_type": "code",
      "metadata": {
        "id": "67TMfsPOIl8l",
        "colab_type": "code",
        "colab": {
          "base_uri": "https://localhost:8080/",
          "height": 34
        },
        "outputId": "b8480022-916a-4f43-e57a-4766b466b6d0"
      },
      "source": [
        "import numpy as np\n",
        "import torch\n",
        "import torch.nn as nn\n",
        "from torch.autograd import Variable\n",
        "\n",
        "DEVICE = torch.device('cuda' if torch.cuda.is_available() else 'cpu')\n",
        "print(DEVICE)\n",
        "\n",
        "\n",
        "def ortho_weights(shape, scale=1.):\n",
        "    \"\"\" PyTorch port of ortho_init from baselines.a2c.utils \"\"\"\n",
        "    shape = tuple(shape)\n",
        "\n",
        "    if len(shape) == 2:\n",
        "        flat_shape = shape[1], shape[0]\n",
        "    elif len(shape) == 4:\n",
        "        flat_shape = (np.prod(shape[1:]), shape[0])\n",
        "    else:\n",
        "        raise NotImplementedError\n",
        "\n",
        "    a = np.random.normal(0., 1., flat_shape)\n",
        "    u, _, v = np.linalg.svd(a, full_matrices=False)\n",
        "    q = u if u.shape == flat_shape else v\n",
        "    q = q.transpose().copy().reshape(shape)\n",
        "\n",
        "    if len(shape) == 2:\n",
        "        return torch.from_numpy((scale * q).astype(np.float32))\n",
        "    if len(shape) == 4:\n",
        "        return torch.from_numpy((scale * q[:, :shape[1], :shape[2]]).astype(np.float32))\n",
        "\n",
        "\n",
        "def atari_initializer(module):\n",
        "    \"\"\" Parameter initializer for Atari models\n",
        "    Initializes Linear, Conv2d, and LSTM weights.\n",
        "    \"\"\"\n",
        "    classname = module.__class__.__name__\n",
        "\n",
        "    if classname == 'Linear':\n",
        "        module.weight.data = ortho_weights(module.weight.data.size(), scale=np.sqrt(2.))\n",
        "        module.bias.data.zero_()\n",
        "\n",
        "    elif classname == 'Conv2d':\n",
        "        module.weight.data = ortho_weights(module.weight.data.size(), scale=np.sqrt(2.))\n",
        "        module.bias.data.zero_()\n",
        "\n",
        "    elif classname == 'LSTM':\n",
        "        for name, param in module.named_parameters():\n",
        "            if 'weight_ih' in name:\n",
        "                param.data = ortho_weights(param.data.size(), scale=1.)\n",
        "            if 'weight_hh' in name:\n",
        "                param.data = ortho_weights(param.data.size(), scale=1.)\n",
        "            if 'bias' in name:\n",
        "                param.data.zero_()\n",
        "\n",
        "\n",
        "class AtariCNN(nn.Module):\n",
        "    def __init__(self, num_actions):\n",
        "        \"\"\" Basic convolutional actor-critic network for Atari 2600 games\n",
        "        Equivalent to the network in the original DQN paper.\n",
        "        Args:\n",
        "            num_actions (int): the number of available discrete actions\n",
        "        \"\"\"\n",
        "        super().__init__()\n",
        "\n",
        "        self.conv = nn.Sequential(nn.Conv2d(in_channels=4, out_channels=32, kernel_size=8, stride=4),\n",
        "                                  nn.ReLU(),\n",
        "                                  nn.Conv2d(in_channels=32, out_channels=64, kernel_size=4, stride=2),\n",
        "                                  nn.ReLU(),\n",
        "                                  nn.Conv2d(in_channels=64, out_channels=64, kernel_size=3, stride=1),\n",
        "                                  nn.ReLU())\n",
        "\n",
        "        self.fc = nn.Sequential(nn.Linear(64 * 7 * 7, 512),\n",
        "                                nn.ReLU())\n",
        "\n",
        "        self.pi = nn.Linear(512, num_actions)\n",
        "        self.v = nn.Linear(512, 1)\n",
        "\n",
        "        self.num_actions = num_actions\n",
        "\n",
        "        # parameter initialization\n",
        "        self.apply(atari_initializer)\n",
        "        self.pi.weight.data = ortho_weights(self.pi.weight.size(), scale=.01)\n",
        "        self.v.weight.data = ortho_weights(self.v.weight.size())\n",
        "\n",
        "    def forward(self, x):\n",
        "        \"\"\" Module forward pass\n",
        "        Args:\n",
        "            x (Variable): convolutional input, shaped [batch_size x 4 x 84 x 84]\n",
        "        Returns:\n",
        "            pi (Variable): action probability logits, shaped [batch_size x self.num_actions]\n",
        "            v (Variable): value predictions, shaped [batch_size x 1]\n",
        "        \"\"\"\n",
        "        batch_size = x.shape[0]\n",
        "        \n",
        "        conv_out = self.conv(x).view(batch_size, 64 * 7 * 7)\n",
        "\n",
        "        fc_out = self.fc(conv_out)\n",
        "\n",
        "        logits = self.pi(fc_out)\n",
        "        value = self.v(fc_out)\n",
        "\n",
        "        return logits, value\n",
        "\n"
      ],
      "execution_count": 5,
      "outputs": [
        {
          "output_type": "stream",
          "text": [
            "cuda\n"
          ],
          "name": "stdout"
        }
      ]
    },
    {
      "cell_type": "markdown",
      "metadata": {
        "id": "1xd-NtMhIl81",
        "colab_type": "text"
      },
      "source": [
        "You will also need to define and use a policy that wraps the model. While the model computes logits for all actions, the policy will sample actions and also compute their log probabilities.  `policy.act` should return a dictionary of all the arrays that are needed to interact with an environment and train the model.\n",
        " Note that actions must be an `np.ndarray` while the other\n",
        "tensors need to have the type determined by your deep learning framework. "
      ]
    },
    {
      "cell_type": "code",
      "metadata": {
        "id": "u5lMKc4pIl86",
        "colab_type": "code",
        "colab": {
          "base_uri": "https://localhost:8080/",
          "height": 469
        },
        "outputId": "955bf73d-126d-4205-9e82-ad61ce88c61e"
      },
      "source": [
        "import gym\n",
        "\n",
        "class Wrapper(gym.ObservationWrapper):\n",
        "    def __init(self, env):\n",
        "        super().__init__(env)\n",
        "    \n",
        "    def observation(self, state):\n",
        "        state = state.transpose(0, 3, 1, 2)\n",
        "        return torch.tensor(state).float().to(DEVICE) / 255.0\n",
        "\n",
        "\n",
        "env = Wrapper(env)\n",
        "s = env.reset()\n",
        "print(s.shape)\n",
        "#s = s.transpose(0, 3, 1, 2)\n",
        "#s = torch.tensor(s)\n",
        "model = AtariCNN(N_ACTIONS).to(DEVICE)\n",
        "logits, values = model(s)\n",
        "print(logits)\n",
        "print(values)\n",
        "torch.distributions.Categorical(logits=logits).sample()"
      ],
      "execution_count": 6,
      "outputs": [
        {
          "output_type": "stream",
          "text": [
            "torch.Size([8, 4, 84, 84])\n",
            "tensor([[-6.8072e-04, -2.3548e-03,  4.8231e-04, -7.1827e-04,  2.6984e-04,\n",
            "          7.4516e-05],\n",
            "        [-6.8072e-04, -2.3548e-03,  4.8231e-04, -7.1827e-04,  2.6984e-04,\n",
            "          7.4516e-05],\n",
            "        [-6.8072e-04, -2.3548e-03,  4.8231e-04, -7.1827e-04,  2.6984e-04,\n",
            "          7.4516e-05],\n",
            "        [-6.8072e-04, -2.3548e-03,  4.8231e-04, -7.1827e-04,  2.6984e-04,\n",
            "          7.4516e-05],\n",
            "        [-6.8072e-04, -2.3548e-03,  4.8231e-04, -7.1827e-04,  2.6984e-04,\n",
            "          7.4516e-05],\n",
            "        [-6.8072e-04, -2.3548e-03,  4.8231e-04, -7.1827e-04,  2.6984e-04,\n",
            "          7.4516e-05],\n",
            "        [-6.8072e-04, -2.3548e-03,  4.8231e-04, -7.1827e-04,  2.6984e-04,\n",
            "          7.4516e-05],\n",
            "        [-6.8072e-04, -2.3548e-03,  4.8231e-04, -7.1827e-04,  2.6984e-04,\n",
            "          7.4516e-05]], device='cuda:0', grad_fn=<AddmmBackward>)\n",
            "tensor([[0.1045],\n",
            "        [0.1045],\n",
            "        [0.1045],\n",
            "        [0.1045],\n",
            "        [0.1045],\n",
            "        [0.1045],\n",
            "        [0.1045],\n",
            "        [0.1045]], device='cuda:0', grad_fn=<AddmmBackward>)\n"
          ],
          "name": "stdout"
        },
        {
          "output_type": "execute_result",
          "data": {
            "text/plain": [
              "tensor([5, 2, 2, 2, 1, 3, 0, 4], device='cuda:0')"
            ]
          },
          "metadata": {
            "tags": []
          },
          "execution_count": 6
        }
      ]
    },
    {
      "cell_type": "code",
      "metadata": {
        "id": "bd875-z-Il9M",
        "colab_type": "code",
        "colab": {
          "base_uri": "https://localhost:8080/",
          "height": 225
        },
        "outputId": "e129f6b1-efca-4911-8dab-d27eaf1bbd80"
      },
      "source": [
        "a = torch.tensor(np.arange(16))\n",
        "a = a.reshape(4,4)\n",
        "print(a)\n",
        "a[:,3]\n",
        "actions = torch.tensor([0,1,3,1]).reshape(-1, 1)\n",
        "print('actions = ', actions)\n",
        "a.gather(1, actions)"
      ],
      "execution_count": 7,
      "outputs": [
        {
          "output_type": "stream",
          "text": [
            "tensor([[ 0,  1,  2,  3],\n",
            "        [ 4,  5,  6,  7],\n",
            "        [ 8,  9, 10, 11],\n",
            "        [12, 13, 14, 15]])\n",
            "actions =  tensor([[0],\n",
            "        [1],\n",
            "        [3],\n",
            "        [1]])\n"
          ],
          "name": "stdout"
        },
        {
          "output_type": "execute_result",
          "data": {
            "text/plain": [
              "tensor([[ 0],\n",
              "        [ 5],\n",
              "        [11],\n",
              "        [13]])"
            ]
          },
          "metadata": {
            "tags": []
          },
          "execution_count": 7
        }
      ]
    },
    {
      "cell_type": "code",
      "metadata": {
        "id": "QIlVt7s8Il9W",
        "colab_type": "code",
        "colab": {}
      },
      "source": [
        "from torch.nn import functional as F\n",
        "\n",
        "class Policy:\n",
        "  def __init__(self, model):\n",
        "    self.model = model\n",
        "    \n",
        "  def act(self, inputs, determ = False):\n",
        "    logits, values = self.model(inputs)\n",
        "    dist = torch.distributions.Categorical(logits=logits)\n",
        "\n",
        "    if determ:\n",
        "        actions = dist.probs.argmax(dim=1, keepdim=True)\n",
        "    else:\n",
        "        actions = dist.sample().view(-1, 1)\n",
        "\n",
        "    log_probs = F.log_softmax(logits, dim=1)\n",
        "    action_log_probs = log_probs.gather(1, actions)\n",
        "    \n",
        "    #print(actions.shape, logits.shape, action_log_probs.shape, values.shape)\n",
        "\n",
        "    return {\n",
        "        'actions': actions.reshape(-1).cpu().numpy(), \n",
        "        'logits': logits,\n",
        "        'log_probs': action_log_probs.reshape(-1), \n",
        "        'values': values.reshape(-1)\n",
        "    }\n",
        "    #<Implement policy by calling model, sampling actions and computing their log probs>\n",
        "    # Should return a dict containing keys ['actions', 'logits', 'log_probs', 'values']."
      ],
      "execution_count": 0,
      "outputs": []
    },
    {
      "cell_type": "code",
      "metadata": {
        "id": "tyrAF9bgIl9f",
        "colab_type": "code",
        "colab": {
          "base_uri": "https://localhost:8080/",
          "height": 260
        },
        "outputId": "6e6254bc-4531-4e47-810a-4b485f75b54c"
      },
      "source": [
        "model = AtariCNN(N_ACTIONS).to(DEVICE)\n",
        "policy = Policy(model)\n",
        "s = env.reset()       \n",
        "policy.act(s)"
      ],
      "execution_count": 17,
      "outputs": [
        {
          "output_type": "execute_result",
          "data": {
            "text/plain": [
              "{'actions': array([1, 4, 5, 3, 3, 4, 3, 1]),\n",
              " 'log_probs': tensor([-1.7916, -1.7922, -1.7933, -1.7920, -1.7920, -1.7922, -1.7920, -1.7916],\n",
              "        device='cuda:0', grad_fn=<AsStridedBackward>),\n",
              " 'logits': tensor([[-0.0007, -0.0002,  0.0022, -0.0006, -0.0007, -0.0018],\n",
              "         [-0.0007, -0.0002,  0.0022, -0.0006, -0.0007, -0.0018],\n",
              "         [-0.0007, -0.0002,  0.0022, -0.0006, -0.0007, -0.0018],\n",
              "         [-0.0007, -0.0002,  0.0022, -0.0006, -0.0007, -0.0018],\n",
              "         [-0.0007, -0.0002,  0.0022, -0.0006, -0.0007, -0.0018],\n",
              "         [-0.0007, -0.0002,  0.0022, -0.0006, -0.0007, -0.0018],\n",
              "         [-0.0007, -0.0002,  0.0022, -0.0006, -0.0007, -0.0018],\n",
              "         [-0.0007, -0.0002,  0.0022, -0.0006, -0.0007, -0.0018]],\n",
              "        device='cuda:0', grad_fn=<AddmmBackward>),\n",
              " 'values': tensor([0.2072, 0.2072, 0.2072, 0.2072, 0.2072, 0.2072, 0.2072, 0.2072],\n",
              "        device='cuda:0', grad_fn=<AsStridedBackward>)}"
            ]
          },
          "metadata": {
            "tags": []
          },
          "execution_count": 17
        }
      ]
    },
    {
      "cell_type": "markdown",
      "metadata": {
        "id": "V7e67LokIl9q",
        "colab_type": "text"
      },
      "source": [
        "Next will pass the environment and policy to a runner that collects partial trajectories from the environment. \n",
        "The class that does is is already implemented for you."
      ]
    },
    {
      "cell_type": "code",
      "metadata": {
        "id": "HUJZSPT7Il9u",
        "colab_type": "code",
        "colab": {}
      },
      "source": [
        "\"\"\" RL env runner \"\"\"\n",
        "from collections import defaultdict\n",
        "import numpy as np\n",
        "\n",
        "\n",
        "class EnvRunner:\n",
        "  \"\"\" Reinforcement learning runner in an environment with given policy \"\"\"\n",
        "  def __init__(self, env, policy, nsteps,\n",
        "               transforms=None, step_var=None):\n",
        "    self.env = env\n",
        "    self.policy = policy\n",
        "    self.nsteps = nsteps\n",
        "    self.transforms = transforms or []\n",
        "    self.step_var = step_var if step_var is not None else 0\n",
        "    self.state = {\"latest_observation\": self.env.reset()}\n",
        "\n",
        "  @property\n",
        "  def nenvs(self):\n",
        "    \"\"\" Returns number of batched envs or `None` if env is not batched \"\"\"\n",
        "    return getattr(self.env.unwrapped, \"nenvs\", None)\n",
        "\n",
        "  def reset(self):\n",
        "    \"\"\" Resets env and runner states. \"\"\"\n",
        "    self.state[\"latest_observation\"] = self.env.reset()\n",
        "\n",
        "  def get_next(self):\n",
        "    \"\"\" Runs the agent in the environment.  \"\"\"\n",
        "    trajectory = defaultdict(list, {\"actions\": []})\n",
        "    observations = []\n",
        "    rewards = []\n",
        "    resets = []\n",
        "    self.state[\"env_steps\"] = self.nsteps\n",
        "\n",
        "    for i in range(self.nsteps):\n",
        "      observations.append(self.state[\"latest_observation\"])\n",
        "      act = self.policy.act(self.state[\"latest_observation\"])\n",
        "      if \"actions\" not in act:\n",
        "        raise ValueError(\"result of policy.act must contain 'actions' \"\n",
        "                         f\"but has keys {list(act.keys())}\")\n",
        "      for key, val in act.items():\n",
        "        trajectory[key].append(val)\n",
        "\n",
        "      obs, rew, done, _ = self.env.step(trajectory[\"actions\"][-1])\n",
        "      self.state[\"latest_observation\"] = obs\n",
        "      rewards.append(rew)\n",
        "      resets.append(done)\n",
        "      self.step_var += self.nenvs or 1\n",
        "\n",
        "      # Only reset if the env is not batched. Batched envs should auto-reset.\n",
        "      if not self.nenvs and np.all(done):\n",
        "        self.state[\"env_steps\"] = i + 1\n",
        "        self.state[\"latest_observation\"] = self.env.reset()\n",
        "\n",
        "    trajectory.update(observations=observations, rewards=rewards, resets=resets)\n",
        "    trajectory[\"state\"] = self.state\n",
        "\n",
        "    for transform in self.transforms:\n",
        "      transform(trajectory)\n",
        "    return trajectory\n"
      ],
      "execution_count": 0,
      "outputs": []
    },
    {
      "cell_type": "markdown",
      "metadata": {
        "id": "HYpcA3Z6Il-D",
        "colab_type": "text"
      },
      "source": [
        "This runner interacts with the environment for a given number of steps and returns a dictionary containing\n",
        "keys \n",
        "\n",
        "* 'observations' \n",
        "* 'rewards' \n",
        "* 'resets'\n",
        "* 'actions'\n",
        "* all other keys that you defined in `Policy`\n",
        "\n",
        "under each of these keys there is a python `list` of interactions with the environment of specified length $T$ &mdash; the size of partial trajectory. "
      ]
    },
    {
      "cell_type": "markdown",
      "metadata": {
        "id": "FGX69Q2DIl-K",
        "colab_type": "text"
      },
      "source": [
        "To train the part of the model that predicts state values you will need to compute the value targets. \n",
        "Any callable could be passed to `EnvRunner` to be applied to each partial trajectory after it is collected. \n",
        "Thus, we can implement and use `ComputeValueTargets` callable. \n",
        "The formula for the value targets is simple:\n",
        "\n",
        "$$\n",
        "\\hat v(s_t) = \\sum_{t'=0}^{T - 1}\\gamma^{t'}r_{t+t'} + \\gamma^T \\hat{v}(s_{t+T}),\n",
        "$$\n",
        "\n",
        "In implementation, however, do not forget to use \n",
        "`trajectory['resets']` flags to check if you need to add the value targets at the next step when \n",
        "computing value targets for the current step. You can access `trajectory['state']['latest_observation']`\n",
        "to get last observations in partial trajectory &mdash; $s_{t+T}$."
      ]
    },
    {
      "cell_type": "code",
      "metadata": {
        "id": "jWyIxmtMIl-M",
        "colab_type": "code",
        "colab": {}
      },
      "source": [
        "class ComputeValueTargets:\n",
        "  def __init__(self, policy, gamma=0.99):\n",
        "    self.policy = policy\n",
        "    self.gamma = gamma\n",
        "    \n",
        "  def __call__(self, trajectory):\n",
        "    value_target = policy.act(trajectory['state']['latest_observation'])['values']\n",
        "    env_steps = trajectory['state']['env_steps']\n",
        "    rewards = torch.tensor(trajectory['rewards'], dtype=torch.float).to(DEVICE)\n",
        "    dones = torch.tensor(trajectory['resets'], dtype=torch.float).to(DEVICE)\n",
        "    is_not_done = 1 - dones\n",
        "\n",
        "    trajectory['value_targets'] = [0] * env_steps\n",
        "    for i in range(env_steps):\n",
        "        j = env_steps - i - 1\n",
        "        value_target = rewards[j] + value_target * self.gamma * is_not_done[j]\n",
        "        trajectory['value_targets'][j] = value_target\n",
        "\n",
        "\n",
        "    # This method should modify trajectory inplace by adding \n",
        "    # an item with key 'value_targets' to it. \n",
        "    #<Compute value targets for a given partial trajectory>"
      ],
      "execution_count": 0,
      "outputs": []
    },
    {
      "cell_type": "markdown",
      "metadata": {
        "id": "fh_Vq2IvIl-S",
        "colab_type": "text"
      },
      "source": [
        "After computing value targets we will transform lists of interactions into tensors\n",
        "with the first dimension `batch_size` which is equal to `T * nenvs`, i.e. you essentially need\n",
        "to flatten the first two dimensions. "
      ]
    },
    {
      "cell_type": "code",
      "metadata": {
        "id": "5N5ev_tRIl-U",
        "colab_type": "code",
        "colab": {}
      },
      "source": [
        "class MergeTimeBatch:\n",
        "  \"\"\" Merges first two axes typically representing time and env batch. \"\"\"\n",
        "  def __call__(self, trajectory):\n",
        "    # Modify trajectory inplace. \n",
        "    #<TODO: implement>\n",
        "    #'actions', 'logits', 'log_probs', 'values', 'observations', 'rewards', 'resets', 'state', 'value_targets'\n",
        "        \n",
        "    trajectory['value_targets'] = torch.stack(trajectory['value_targets'])\n",
        "    trajectory['value_targets'] = trajectory['value_targets'].flatten(0, 1)\n",
        "    trajectory['values'] = torch.stack(trajectory['values']).flatten(0, 1)\n",
        "    trajectory['logits'] = torch.stack(trajectory['logits']).flatten(0, 1)\n",
        "    trajectory['log_probs'] = torch.stack(trajectory['log_probs']).flatten(0, 1)\n",
        "    \n",
        "    \n"
      ],
      "execution_count": 0,
      "outputs": []
    },
    {
      "cell_type": "code",
      "metadata": {
        "id": "MdTaYTIYIl-c",
        "colab_type": "code",
        "colab": {}
      },
      "source": [
        "model = AtariCNN(N_ACTIONS).to(DEVICE)\n",
        "policy = Policy(model)\n",
        "runner = EnvRunner(env, policy, nsteps=5,\n",
        "                   transforms=[ComputeValueTargets(policy),\n",
        "                               MergeTimeBatch()])\n",
        "\n",
        "\n",
        "trajectory = runner.get_next()"
      ],
      "execution_count": 0,
      "outputs": []
    },
    {
      "cell_type": "markdown",
      "metadata": {
        "id": "s3uYsxqbIl-m",
        "colab_type": "text"
      },
      "source": [
        "Now is the time to implement the advantage actor critic algorithm itself. You can look into your lecture,\n",
        "[Mnih et al. 2016](https://arxiv.org/abs/1602.01783) paper, and [lecture](https://www.youtube.com/watch?v=Tol_jw5hWnI&list=PLkFD6_40KJIxJMR-j5A1mkxK26gh_qg37&index=20) by Sergey Levine."
      ]
    },
    {
      "cell_type": "code",
      "metadata": {
        "id": "3GgL-VfDIl-q",
        "colab_type": "code",
        "colab": {}
      },
      "source": [
        "import torch.nn as nn\n",
        "\n",
        "class A2C:\n",
        "  def __init__(self,\n",
        "               policy,\n",
        "               optimizer,\n",
        "               value_loss_coef=0.25,\n",
        "               entropy_coef=0.01,\n",
        "               max_grad_norm=0.5):\n",
        "    self.policy = policy\n",
        "    self.optimizer = optimizer\n",
        "    self.value_loss_coef = value_loss_coef\n",
        "    self.entropy_coef = entropy_coef\n",
        "    self.max_grad_norm = max_grad_norm\n",
        "    \n",
        "    self.ploss = None\n",
        "    self.vloss = None\n",
        "    self.a2c_loss = None\n",
        "    \n",
        "    self.vtargets = None\n",
        "    self.values = None\n",
        "    self.advantage = None\n",
        "    self.entropy = None\n",
        "    \n",
        "    self.grad_norm = None\n",
        "    \n",
        "  def policy_loss(self, trajectory):\n",
        "    advantage = trajectory['value_targets'] - trajectory['values']\n",
        "    \n",
        "    logits = trajectory['logits']\n",
        "    probs = nn.functional.softmax(logits, dim=-1)\n",
        "    logprobs = nn.functional.log_softmax(logits, dim=-1)\n",
        "    \n",
        "    entropy = -torch.sum(probs * logprobs, dim=-1)\n",
        "\n",
        "    actor_loss = -torch.mean(trajectory['log_probs'] * advantage.detach()) - self.entropy_coef * torch.mean(entropy)\n",
        "    \n",
        "    self.ploss = actor_loss.item()\n",
        "    self.vtargets = torch.mean(trajectory['value_targets']).item()\n",
        "    self.values = torch.mean(trajectory['values']).item()\n",
        "    self.advantage = torch.mean(advantage).item()\n",
        "    self.entropy = torch.mean(entropy).item()\n",
        "    \n",
        "    return actor_loss\n",
        " \n",
        "  def value_loss(self, trajectory):\n",
        "    critic_loss = torch.mean((trajectory['values'] - trajectory['value_targets'].detach())**2)\n",
        "    self.vloss = critic_loss.item()\n",
        "    return critic_loss\n",
        "    \n",
        "  def loss(self, trajectory):\n",
        "    total_loss = self.policy_loss(trajectory) + self.value_loss_coef * self.value_loss(trajectory)\n",
        "    self.a2c_loss = total_loss.item()\n",
        "    return total_loss\n",
        "      \n",
        "  def step(self, trajectory):\n",
        "    self.optimizer.zero_grad()\n",
        "    self.loss(trajectory).backward()\n",
        "    self.grad_norm = nn.utils.clip_grad_norm_(agent.parameters(), self.max_grad_norm)\n",
        "    self.optimizer.step()"
      ],
      "execution_count": 0,
      "outputs": []
    },
    {
      "cell_type": "markdown",
      "metadata": {
        "id": "1-inAO_NIl-u",
        "colab_type": "text"
      },
      "source": [
        "Now you can train your model. With reasonable hyperparameters training on a single GTX1080 for 10 million steps across all batched environments (which translates to about 5 hours of wall clock time)\n",
        "it should be possible to achieve *average raw reward over last 100 episodes* (the average is taken over 100 last \n",
        "episodes in each environment in the batch) of about 600. You should plot this quantity with respect to \n",
        "`runner.step_var` &mdash; the number of interactions with all environments. It is highly \n",
        "encouraged to also provide plots of the following quantities (these are useful for debugging as well):\n",
        "\n",
        "* [Coefficient of Determination](https://en.wikipedia.org/wiki/Coefficient_of_determination) between \n",
        "value targets and value predictions\n",
        "* Entropy of the policy $\\pi$\n",
        "* Value loss\n",
        "* Policy loss\n",
        "* Value targets\n",
        "* Value predictions\n",
        "* Gradient norm\n",
        "* Advantages\n",
        "* A2C loss\n",
        "\n",
        "For optimization we suggest you use RMSProp with learning rate starting from 7e-4 and linearly decayed to 0, smoothing constant (alpha in PyTorch and decay in TensorFlow) equal to 0.99 and epsilon equal to 1e-5."
      ]
    },
    {
      "cell_type": "code",
      "metadata": {
        "id": "uAynSgnKIl-0",
        "colab_type": "code",
        "colab": {
          "base_uri": "https://localhost:8080/",
          "height": 935
        },
        "outputId": "ef119914-d20a-432a-f643-d8860c72b5d6"
      },
      "source": [
        "%matplotlib inline\n",
        "\n",
        "from tqdm import trange\n",
        "from matplotlib import pyplot as plt\n",
        "from IPython.display import clear_output\n",
        "import numpy as np\n",
        "\n",
        "\n",
        "\n",
        "agent = AtariCNN(N_ACTIONS).to(DEVICE)\n",
        "opt = torch.optim.RMSprop(agent.parameters(), lr=7e-4, alpha=0.99, eps=1e-5)\n",
        "policy = Policy(agent)\n",
        "a2c = A2C(policy, opt)\n",
        "runner = EnvRunner(env, policy, nsteps=5, transforms=[ComputeValueTargets(policy), MergeTimeBatch()])\n",
        "runner.reset()\n",
        "\n",
        "entropis = []\n",
        "mean_entropis = []\n",
        "\n",
        "vlosses = []\n",
        "mean_vlosses = []\n",
        "\n",
        "plosses = []\n",
        "mean_plosses = []\n",
        "\n",
        "vtargets = []\n",
        "mean_vtargets = []\n",
        "\n",
        "vpredictions = []\n",
        "mean_vpredictions = []\n",
        "\n",
        "grad_norms = []\n",
        "mean_grad_norms = []\n",
        "\n",
        "advantages = []\n",
        "mean_advantages = []\n",
        "\n",
        "a2c_losses = []\n",
        "mean_a2c_losses = []\n",
        "\n",
        "mean_rewards = []\n",
        "rewards = np.zeros(N_ENVS, dtype=float)\n",
        "dones = np.zeros(N_ENVS, dtype=float)\n",
        "\n",
        "\n",
        "for i in trange(0, int(1e7), 40):\n",
        "    trajectory = runner.get_next()\n",
        "    a2c.step(trajectory)\n",
        "    \n",
        "    for batch_rewards, batch_dones in zip(trajectory['rewards'], trajectory['resets']):\n",
        "        rewards += batch_rewards\n",
        "        dones += batch_dones\n",
        "    \n",
        "    entropis.append(a2c.entropy)\n",
        "    vlosses.append(a2c.vloss)\n",
        "    plosses.append(a2c.ploss)\n",
        "    vtargets.append(a2c.vtargets)\n",
        "    vpredictions.append(a2c.values)\n",
        "    grad_norms.append(a2c.grad_norm)\n",
        "    advantages.append(a2c.advantage)\n",
        "    a2c_losses.append(a2c.a2c_loss)\n",
        "        \n",
        "    if np.sum(dones) >= 100:\n",
        "        mean_entropis.append(np.mean(entropis))\n",
        "        mean_vlosses.append(np.mean(vlosses))\n",
        "        mean_plosses.append(np.mean(plosses))\n",
        "        mean_vtargets.append(np.mean(vtargets))\n",
        "        mean_vpredictions.append(np.mean(vpredictions))\n",
        "        mean_grad_norms.append(np.mean(grad_norms))\n",
        "        mean_advantages.append(np.mean(advantages))\n",
        "        mean_a2c_losses.append(np.mean(a2c_losses))\n",
        "\n",
        "        \n",
        "        clear_output(True)\n",
        "        plt.figure(figsize=[16, 9])\n",
        "        \n",
        "        plt.subplot(2, 4, 1)\n",
        "        plt.plot(mean_entropis, label='entropy')\n",
        "        plt.title(\"Policy entropy\")\n",
        "        plt.grid()\n",
        "        plt.legend()\n",
        "        \n",
        "        plt.subplot(2, 4, 2)\n",
        "        plt.plot(mean_vlosses, label='value loss')\n",
        "        plt.title(\"Value losses\")\n",
        "        plt.grid()\n",
        "        plt.legend()\n",
        "        \n",
        "        plt.subplot(2, 4, 3)\n",
        "        plt.plot(mean_plosses, label='policy loss')\n",
        "        plt.title(\"Policy losses\")\n",
        "        plt.grid()\n",
        "        plt.legend()\n",
        "        \n",
        "        plt.subplot(2, 4, 4)\n",
        "        plt.plot(mean_vtargets, label='value targets')\n",
        "        plt.plot(mean_vpredictions, label='value predictions')\n",
        "        plt.title(\"Value targets / predictions\")\n",
        "        plt.grid()\n",
        "        plt.legend()\n",
        "        \n",
        "        plt.subplot(2, 4, 5)\n",
        "        plt.plot(mean_grad_norms, label='gradient norms')\n",
        "        plt.title(\"Gradient norms\")\n",
        "        plt.grid()\n",
        "        plt.legend()\n",
        "        \n",
        "        plt.subplot(2, 4, 6)\n",
        "        plt.plot(mean_advantages, label='advantages')\n",
        "        plt.title(\"Advantages\")\n",
        "        plt.grid()\n",
        "        plt.legend()\n",
        "        \n",
        "        plt.subplot(2, 4, 7)\n",
        "        plt.plot(mean_a2c_losses, label='total loss')\n",
        "        plt.title(\"Total loss\")\n",
        "        plt.grid()\n",
        "        plt.legend()\n",
        "        \n",
        "        plt.subplot(2, 4, 8)\n",
        "        mean_rewards.append(np.sum(rewards) / np.sum(dones))\n",
        "        plt.plot(mean_rewards, label='aver rewards')\n",
        "        plt.title(\"Aver rewards\")\n",
        "        plt.grid()\n",
        "        plt.legend()\n",
        "        \n",
        "        plt.show()\n",
        "        \n",
        "        entropis = []\n",
        "        vlosses = []\n",
        "        plosses = []\n",
        "        vtargets = []\n",
        "        vpredictions = []\n",
        "        grad_norms = []\n",
        "        advantages = []\n",
        "        a2c_losses = []\n",
        "        rewards = np.zeros(N_ENVS, dtype=float)\n",
        "        dones = np.zeros(N_ENVS, dtype=float)\n",
        "\n",
        "       "
      ],
      "execution_count": 28,
      "outputs": [
        {
          "output_type": "display_data",
          "data": {
            "image/png": "[encoded data removed]",
            "text/plain": [
              "<Figure size 1152x648 with 8 Axes>"
            ]
          },
          "metadata": {
            "tags": []
          }
        },
        {
          "output_type": "stream",
          "text": [
            " 96%|█████████▌| 239682/250000 [4:54:57<12:24, 13.86it/s]"
          ],
          "name": "stderr"
        },
        {
          "output_type": "error",
          "ename": "KeyboardInterrupt",
          "evalue": "ignored",
          "traceback": [
            "\u001b[0;31m---------------------------------------------------------------------------\u001b[0m",
            "\u001b[0;31mKeyboardInterrupt\u001b[0m                         Traceback (most recent call last)",
            "\u001b[0;32m<ipython-input-28-235f65ee258e>\u001b[0m in \u001b[0;36m<module>\u001b[0;34m()\u001b[0m\n\u001b[1;32m     45\u001b[0m \u001b[0;34m\u001b[0m\u001b[0m\n\u001b[1;32m     46\u001b[0m \u001b[0;32mfor\u001b[0m \u001b[0mi\u001b[0m \u001b[0;32min\u001b[0m \u001b[0mtrange\u001b[0m\u001b[0;34m(\u001b[0m\u001b[0;36m0\u001b[0m\u001b[0;34m,\u001b[0m \u001b[0mint\u001b[0m\u001b[0;34m(\u001b[0m\u001b[0;36m1e7\u001b[0m\u001b[0;34m)\u001b[0m\u001b[0;34m,\u001b[0m \u001b[0;36m40\u001b[0m\u001b[0;34m)\u001b[0m\u001b[0;34m:\u001b[0m\u001b[0;34m\u001b[0m\u001b[0;34m\u001b[0m\u001b[0m\n\u001b[0;32m---> 47\u001b[0;31m     \u001b[0mtrajectory\u001b[0m \u001b[0;34m=\u001b[0m \u001b[0mrunner\u001b[0m\u001b[0;34m.\u001b[0m\u001b[0mget_next\u001b[0m\u001b[0;34m(\u001b[0m\u001b[0;34m)\u001b[0m\u001b[0;34m\u001b[0m\u001b[0;34m\u001b[0m\u001b[0m\n\u001b[0m\u001b[1;32m     48\u001b[0m     \u001b[0ma2c\u001b[0m\u001b[0;34m.\u001b[0m\u001b[0mstep\u001b[0m\u001b[0;34m(\u001b[0m\u001b[0mtrajectory\u001b[0m\u001b[0;34m)\u001b[0m\u001b[0;34m\u001b[0m\u001b[0;34m\u001b[0m\u001b[0m\n\u001b[1;32m     49\u001b[0m \u001b[0;34m\u001b[0m\u001b[0m\n",
            "\u001b[0;32m<ipython-input-24-797085f73445>\u001b[0m in \u001b[0;36mget_next\u001b[0;34m(self)\u001b[0m\n\u001b[1;32m     41\u001b[0m         \u001b[0mtrajectory\u001b[0m\u001b[0;34m[\u001b[0m\u001b[0mkey\u001b[0m\u001b[0;34m]\u001b[0m\u001b[0;34m.\u001b[0m\u001b[0mappend\u001b[0m\u001b[0;34m(\u001b[0m\u001b[0mval\u001b[0m\u001b[0;34m)\u001b[0m\u001b[0;34m\u001b[0m\u001b[0;34m\u001b[0m\u001b[0m\n\u001b[1;32m     42\u001b[0m \u001b[0;34m\u001b[0m\u001b[0m\n\u001b[0;32m---> 43\u001b[0;31m       \u001b[0mobs\u001b[0m\u001b[0;34m,\u001b[0m \u001b[0mrew\u001b[0m\u001b[0;34m,\u001b[0m \u001b[0mdone\u001b[0m\u001b[0;34m,\u001b[0m \u001b[0m_\u001b[0m \u001b[0;34m=\u001b[0m \u001b[0mself\u001b[0m\u001b[0;34m.\u001b[0m\u001b[0menv\u001b[0m\u001b[0;34m.\u001b[0m\u001b[0mstep\u001b[0m\u001b[0;34m(\u001b[0m\u001b[0mtrajectory\u001b[0m\u001b[0;34m[\u001b[0m\u001b[0;34m\"actions\"\u001b[0m\u001b[0;34m]\u001b[0m\u001b[0;34m[\u001b[0m\u001b[0;34m-\u001b[0m\u001b[0;36m1\u001b[0m\u001b[0;34m]\u001b[0m\u001b[0;34m)\u001b[0m\u001b[0;34m\u001b[0m\u001b[0;34m\u001b[0m\u001b[0m\n\u001b[0m\u001b[1;32m     44\u001b[0m       \u001b[0mself\u001b[0m\u001b[0;34m.\u001b[0m\u001b[0mstate\u001b[0m\u001b[0;34m[\u001b[0m\u001b[0;34m\"latest_observation\"\u001b[0m\u001b[0;34m]\u001b[0m \u001b[0;34m=\u001b[0m \u001b[0mobs\u001b[0m\u001b[0;34m\u001b[0m\u001b[0;34m\u001b[0m\u001b[0m\n\u001b[1;32m     45\u001b[0m       \u001b[0mrewards\u001b[0m\u001b[0;34m.\u001b[0m\u001b[0mappend\u001b[0m\u001b[0;34m(\u001b[0m\u001b[0mrew\u001b[0m\u001b[0;34m)\u001b[0m\u001b[0;34m\u001b[0m\u001b[0;34m\u001b[0m\u001b[0m\n",
            "\u001b[0;32m/usr/local/lib/python3.6/dist-packages/gym/core.py\u001b[0m in \u001b[0;36mstep\u001b[0;34m(self, action)\u001b[0m\n\u001b[1;32m    303\u001b[0m \u001b[0;32mclass\u001b[0m \u001b[0mObservationWrapper\u001b[0m\u001b[0;34m(\u001b[0m\u001b[0mWrapper\u001b[0m\u001b[0;34m)\u001b[0m\u001b[0;34m:\u001b[0m\u001b[0;34m\u001b[0m\u001b[0;34m\u001b[0m\u001b[0m\n\u001b[1;32m    304\u001b[0m     \u001b[0;32mdef\u001b[0m \u001b[0mstep\u001b[0m\u001b[0;34m(\u001b[0m\u001b[0mself\u001b[0m\u001b[0;34m,\u001b[0m \u001b[0maction\u001b[0m\u001b[0;34m)\u001b[0m\u001b[0;34m:\u001b[0m\u001b[0;34m\u001b[0m\u001b[0;34m\u001b[0m\u001b[0m\n\u001b[0;32m--> 305\u001b[0;31m         \u001b[0mobservation\u001b[0m\u001b[0;34m,\u001b[0m \u001b[0mreward\u001b[0m\u001b[0;34m,\u001b[0m \u001b[0mdone\u001b[0m\u001b[0;34m,\u001b[0m \u001b[0minfo\u001b[0m \u001b[0;34m=\u001b[0m \u001b[0mself\u001b[0m\u001b[0;34m.\u001b[0m\u001b[0menv\u001b[0m\u001b[0;34m.\u001b[0m\u001b[0mstep\u001b[0m\u001b[0;34m(\u001b[0m\u001b[0maction\u001b[0m\u001b[0;34m)\u001b[0m\u001b[0;34m\u001b[0m\u001b[0;34m\u001b[0m\u001b[0m\n\u001b[0m\u001b[1;32m    306\u001b[0m         \u001b[0;32mreturn\u001b[0m \u001b[0mself\u001b[0m\u001b[0;34m.\u001b[0m\u001b[0mobservation\u001b[0m\u001b[0;34m(\u001b[0m\u001b[0mobservation\u001b[0m\u001b[0;34m)\u001b[0m\u001b[0;34m,\u001b[0m \u001b[0mreward\u001b[0m\u001b[0;34m,\u001b[0m \u001b[0mdone\u001b[0m\u001b[0;34m,\u001b[0m \u001b[0minfo\u001b[0m\u001b[0;34m\u001b[0m\u001b[0;34m\u001b[0m\u001b[0m\n\u001b[1;32m    307\u001b[0m \u001b[0;34m\u001b[0m\u001b[0m\n",
            "\u001b[0;32m/usr/local/lib/python3.6/dist-packages/gym/core.py\u001b[0m in \u001b[0;36mstep\u001b[0;34m(self, action)\u001b[0m\n\u001b[1;32m    320\u001b[0m \u001b[0;34m\u001b[0m\u001b[0m\n\u001b[1;32m    321\u001b[0m     \u001b[0;32mdef\u001b[0m \u001b[0mstep\u001b[0m\u001b[0;34m(\u001b[0m\u001b[0mself\u001b[0m\u001b[0;34m,\u001b[0m \u001b[0maction\u001b[0m\u001b[0;34m)\u001b[0m\u001b[0;34m:\u001b[0m\u001b[0;34m\u001b[0m\u001b[0;34m\u001b[0m\u001b[0m\n\u001b[0;32m--> 322\u001b[0;31m         \u001b[0mobservation\u001b[0m\u001b[0;34m,\u001b[0m \u001b[0mreward\u001b[0m\u001b[0;34m,\u001b[0m \u001b[0mdone\u001b[0m\u001b[0;34m,\u001b[0m \u001b[0minfo\u001b[0m \u001b[0;34m=\u001b[0m \u001b[0mself\u001b[0m\u001b[0;34m.\u001b[0m\u001b[0menv\u001b[0m\u001b[0;34m.\u001b[0m\u001b[0mstep\u001b[0m\u001b[0;34m(\u001b[0m\u001b[0maction\u001b[0m\u001b[0;34m)\u001b[0m\u001b[0;34m\u001b[0m\u001b[0;34m\u001b[0m\u001b[0m\n\u001b[0m\u001b[1;32m    323\u001b[0m         \u001b[0;32mreturn\u001b[0m \u001b[0mobservation\u001b[0m\u001b[0;34m,\u001b[0m \u001b[0mself\u001b[0m\u001b[0;34m.\u001b[0m\u001b[0mreward\u001b[0m\u001b[0;34m(\u001b[0m\u001b[0mreward\u001b[0m\u001b[0;34m)\u001b[0m\u001b[0;34m,\u001b[0m \u001b[0mdone\u001b[0m\u001b[0;34m,\u001b[0m \u001b[0minfo\u001b[0m\u001b[0;34m\u001b[0m\u001b[0;34m\u001b[0m\u001b[0m\n\u001b[1;32m    324\u001b[0m \u001b[0;34m\u001b[0m\u001b[0m\n",
            "\u001b[0;32m/content/atari_wrappers.py\u001b[0m in \u001b[0;36mstep\u001b[0;34m(self, action)\u001b[0m\n\u001b[1;32m    241\u001b[0m \u001b[0;34m\u001b[0m\u001b[0m\n\u001b[1;32m    242\u001b[0m   \u001b[0;32mdef\u001b[0m \u001b[0mstep\u001b[0m\u001b[0;34m(\u001b[0m\u001b[0mself\u001b[0m\u001b[0;34m,\u001b[0m \u001b[0maction\u001b[0m\u001b[0;34m)\u001b[0m\u001b[0;34m:\u001b[0m\u001b[0;34m\u001b[0m\u001b[0;34m\u001b[0m\u001b[0m\n\u001b[0;32m--> 243\u001b[0;31m     \u001b[0mobs\u001b[0m\u001b[0;34m,\u001b[0m \u001b[0mrew\u001b[0m\u001b[0;34m,\u001b[0m \u001b[0mdone\u001b[0m\u001b[0;34m,\u001b[0m \u001b[0minfo\u001b[0m \u001b[0;34m=\u001b[0m \u001b[0mself\u001b[0m\u001b[0;34m.\u001b[0m\u001b[0menv\u001b[0m\u001b[0;34m.\u001b[0m\u001b[0mstep\u001b[0m\u001b[0;34m(\u001b[0m\u001b[0maction\u001b[0m\u001b[0;34m)\u001b[0m\u001b[0;34m\u001b[0m\u001b[0;34m\u001b[0m\u001b[0m\n\u001b[0m\u001b[1;32m    244\u001b[0m     \u001b[0mself\u001b[0m\u001b[0;34m.\u001b[0m\u001b[0mrewards\u001b[0m \u001b[0;34m+=\u001b[0m \u001b[0mrew\u001b[0m\u001b[0;34m\u001b[0m\u001b[0;34m\u001b[0m\u001b[0m\n\u001b[1;32m    245\u001b[0m     \u001b[0mself\u001b[0m\u001b[0;34m.\u001b[0m\u001b[0mepisode_lengths\u001b[0m\u001b[0;34m[\u001b[0m\u001b[0;34m~\u001b[0m\u001b[0mself\u001b[0m\u001b[0;34m.\u001b[0m\u001b[0mhad_ended_episodes\u001b[0m\u001b[0;34m]\u001b[0m \u001b[0;34m+=\u001b[0m \u001b[0;36m1\u001b[0m\u001b[0;34m\u001b[0m\u001b[0;34m\u001b[0m\u001b[0m\n",
            "\u001b[0;32m/content/env_batch.py\u001b[0m in \u001b[0;36mstep\u001b[0;34m(self, actions)\u001b[0m\n\u001b[1;32m    179\u001b[0m     \u001b[0mself\u001b[0m\u001b[0;34m.\u001b[0m\u001b[0m_check_actions\u001b[0m\u001b[0;34m(\u001b[0m\u001b[0mactions\u001b[0m\u001b[0;34m)\u001b[0m\u001b[0;34m\u001b[0m\u001b[0;34m\u001b[0m\u001b[0m\n\u001b[1;32m    180\u001b[0m     \u001b[0;32mfor\u001b[0m \u001b[0mconn\u001b[0m\u001b[0;34m,\u001b[0m \u001b[0ma\u001b[0m \u001b[0;32min\u001b[0m \u001b[0mzip\u001b[0m\u001b[0;34m(\u001b[0m\u001b[0mself\u001b[0m\u001b[0;34m.\u001b[0m\u001b[0m_parent_connections\u001b[0m\u001b[0;34m,\u001b[0m \u001b[0mactions\u001b[0m\u001b[0;34m)\u001b[0m\u001b[0;34m:\u001b[0m\u001b[0;34m\u001b[0m\u001b[0;34m\u001b[0m\u001b[0m\n\u001b[0;32m--> 181\u001b[0;31m       \u001b[0mconn\u001b[0m\u001b[0;34m.\u001b[0m\u001b[0msend\u001b[0m\u001b[0;34m(\u001b[0m\u001b[0;34m(\u001b[0m\u001b[0;34m\"step\"\u001b[0m\u001b[0;34m,\u001b[0m \u001b[0ma\u001b[0m\u001b[0;34m)\u001b[0m\u001b[0;34m)\u001b[0m\u001b[0;34m\u001b[0m\u001b[0;34m\u001b[0m\u001b[0m\n\u001b[0m\u001b[1;32m    182\u001b[0m     \u001b[0mresults\u001b[0m \u001b[0;34m=\u001b[0m \u001b[0;34m[\u001b[0m\u001b[0mconn\u001b[0m\u001b[0;34m.\u001b[0m\u001b[0mrecv\u001b[0m\u001b[0;34m(\u001b[0m\u001b[0;34m)\u001b[0m \u001b[0;32mfor\u001b[0m \u001b[0mconn\u001b[0m \u001b[0;32min\u001b[0m \u001b[0mself\u001b[0m\u001b[0;34m.\u001b[0m\u001b[0m_parent_connections\u001b[0m\u001b[0;34m]\u001b[0m\u001b[0;34m\u001b[0m\u001b[0;34m\u001b[0m\u001b[0m\n\u001b[1;32m    183\u001b[0m     \u001b[0mobs\u001b[0m\u001b[0;34m,\u001b[0m \u001b[0mrews\u001b[0m\u001b[0;34m,\u001b[0m \u001b[0mdones\u001b[0m\u001b[0;34m,\u001b[0m \u001b[0minfos\u001b[0m \u001b[0;34m=\u001b[0m \u001b[0mzip\u001b[0m\u001b[0;34m(\u001b[0m\u001b[0;34m*\u001b[0m\u001b[0mresults\u001b[0m\u001b[0;34m)\u001b[0m\u001b[0;34m\u001b[0m\u001b[0;34m\u001b[0m\u001b[0m\n",
            "\u001b[0;32m/usr/lib/python3.6/multiprocessing/connection.py\u001b[0m in \u001b[0;36msend\u001b[0;34m(self, obj)\u001b[0m\n\u001b[1;32m    204\u001b[0m         \u001b[0mself\u001b[0m\u001b[0;34m.\u001b[0m\u001b[0m_check_closed\u001b[0m\u001b[0;34m(\u001b[0m\u001b[0;34m)\u001b[0m\u001b[0;34m\u001b[0m\u001b[0;34m\u001b[0m\u001b[0m\n\u001b[1;32m    205\u001b[0m         \u001b[0mself\u001b[0m\u001b[0;34m.\u001b[0m\u001b[0m_check_writable\u001b[0m\u001b[0;34m(\u001b[0m\u001b[0;34m)\u001b[0m\u001b[0;34m\u001b[0m\u001b[0;34m\u001b[0m\u001b[0m\n\u001b[0;32m--> 206\u001b[0;31m         \u001b[0mself\u001b[0m\u001b[0;34m.\u001b[0m\u001b[0m_send_bytes\u001b[0m\u001b[0;34m(\u001b[0m\u001b[0m_ForkingPickler\u001b[0m\u001b[0;34m.\u001b[0m\u001b[0mdumps\u001b[0m\u001b[0;34m(\u001b[0m\u001b[0mobj\u001b[0m\u001b[0;34m)\u001b[0m\u001b[0;34m)\u001b[0m\u001b[0;34m\u001b[0m\u001b[0;34m\u001b[0m\u001b[0m\n\u001b[0m\u001b[1;32m    207\u001b[0m \u001b[0;34m\u001b[0m\u001b[0m\n\u001b[1;32m    208\u001b[0m     \u001b[0;32mdef\u001b[0m \u001b[0mrecv_bytes\u001b[0m\u001b[0;34m(\u001b[0m\u001b[0mself\u001b[0m\u001b[0;34m,\u001b[0m \u001b[0mmaxlength\u001b[0m\u001b[0;34m=\u001b[0m\u001b[0;32mNone\u001b[0m\u001b[0;34m)\u001b[0m\u001b[0;34m:\u001b[0m\u001b[0;34m\u001b[0m\u001b[0;34m\u001b[0m\u001b[0m\n",
            "\u001b[0;32m/usr/lib/python3.6/multiprocessing/connection.py\u001b[0m in \u001b[0;36m_send_bytes\u001b[0;34m(self, buf)\u001b[0m\n\u001b[1;32m    402\u001b[0m             \u001b[0;31m# Also note we want to avoid sending a 0-length buffer separately,\u001b[0m\u001b[0;34m\u001b[0m\u001b[0;34m\u001b[0m\u001b[0;34m\u001b[0m\u001b[0m\n\u001b[1;32m    403\u001b[0m             \u001b[0;31m# to avoid \"broken pipe\" errors if the other end closed the pipe.\u001b[0m\u001b[0;34m\u001b[0m\u001b[0;34m\u001b[0m\u001b[0;34m\u001b[0m\u001b[0m\n\u001b[0;32m--> 404\u001b[0;31m             \u001b[0mself\u001b[0m\u001b[0;34m.\u001b[0m\u001b[0m_send\u001b[0m\u001b[0;34m(\u001b[0m\u001b[0mheader\u001b[0m \u001b[0;34m+\u001b[0m \u001b[0mbuf\u001b[0m\u001b[0;34m)\u001b[0m\u001b[0;34m\u001b[0m\u001b[0;34m\u001b[0m\u001b[0m\n\u001b[0m\u001b[1;32m    405\u001b[0m \u001b[0;34m\u001b[0m\u001b[0m\n\u001b[1;32m    406\u001b[0m     \u001b[0;32mdef\u001b[0m \u001b[0m_recv_bytes\u001b[0m\u001b[0;34m(\u001b[0m\u001b[0mself\u001b[0m\u001b[0;34m,\u001b[0m \u001b[0mmaxsize\u001b[0m\u001b[0;34m=\u001b[0m\u001b[0;32mNone\u001b[0m\u001b[0;34m)\u001b[0m\u001b[0;34m:\u001b[0m\u001b[0;34m\u001b[0m\u001b[0;34m\u001b[0m\u001b[0m\n",
            "\u001b[0;32m/usr/lib/python3.6/multiprocessing/connection.py\u001b[0m in \u001b[0;36m_send\u001b[0;34m(self, buf, write)\u001b[0m\n\u001b[1;32m    366\u001b[0m         \u001b[0mremaining\u001b[0m \u001b[0;34m=\u001b[0m \u001b[0mlen\u001b[0m\u001b[0;34m(\u001b[0m\u001b[0mbuf\u001b[0m\u001b[0;34m)\u001b[0m\u001b[0;34m\u001b[0m\u001b[0;34m\u001b[0m\u001b[0m\n\u001b[1;32m    367\u001b[0m         \u001b[0;32mwhile\u001b[0m \u001b[0;32mTrue\u001b[0m\u001b[0;34m:\u001b[0m\u001b[0;34m\u001b[0m\u001b[0;34m\u001b[0m\u001b[0m\n\u001b[0;32m--> 368\u001b[0;31m             \u001b[0mn\u001b[0m \u001b[0;34m=\u001b[0m \u001b[0mwrite\u001b[0m\u001b[0;34m(\u001b[0m\u001b[0mself\u001b[0m\u001b[0;34m.\u001b[0m\u001b[0m_handle\u001b[0m\u001b[0;34m,\u001b[0m \u001b[0mbuf\u001b[0m\u001b[0;34m)\u001b[0m\u001b[0;34m\u001b[0m\u001b[0;34m\u001b[0m\u001b[0m\n\u001b[0m\u001b[1;32m    369\u001b[0m             \u001b[0mremaining\u001b[0m \u001b[0;34m-=\u001b[0m \u001b[0mn\u001b[0m\u001b[0;34m\u001b[0m\u001b[0;34m\u001b[0m\u001b[0m\n\u001b[1;32m    370\u001b[0m             \u001b[0;32mif\u001b[0m \u001b[0mremaining\u001b[0m \u001b[0;34m==\u001b[0m \u001b[0;36m0\u001b[0m\u001b[0;34m:\u001b[0m\u001b[0;34m\u001b[0m\u001b[0;34m\u001b[0m\u001b[0m\n",
            "\u001b[0;31mKeyboardInterrupt\u001b[0m: "
          ]
        }
      ]
    },
    {
      "cell_type": "code",
      "metadata": {
        "id": "e5u7-w02Il-8",
        "colab_type": "code",
        "colab": {
          "base_uri": "https://localhost:8080/",
          "height": 124
        },
        "outputId": "9f82ba70-0074-4640-c53b-97f5866fae16"
      },
      "source": [
        "from google.colab import drive\n",
        "drive.mount('/content/drive/')"
      ],
      "execution_count": 29,
      "outputs": [
        {
          "output_type": "stream",
          "text": [
            "\r 96%|█████████▌| 239682/250000 [4:55:11<12:24, 13.86it/s]"
          ],
          "name": "stderr"
        },
        {
          "output_type": "stream",
          "text": [
            "Go to this URL in a browser: https://accounts.google.com/o/oauth2/auth?client_id=947318989803-6bn6qk8qdgf4n4g3pfee6491hc0brc4i.apps.googleusercontent.com&redirect_uri=urn%3Aietf%3Awg%3Aoauth%3A2.0%3Aoob&scope=email%20https%3A%2F%2Fwww.googleapis.com%2Fauth%2Fdocs.test%20https%3A%2F%2Fwww.googleapis.com%2Fauth%2Fdrive%20https%3A%2F%2Fwww.googleapis.com%2Fauth%2Fdrive.photos.readonly%20https%3A%2F%2Fwww.googleapis.com%2Fauth%2Fpeopleapi.readonly&response_type=code\n",
            "\n",
            "Enter your authorization code:\n",
            "··········\n",
            "Mounted at /content/drive/\n"
          ],
          "name": "stdout"
        }
      ]
    },
    {
      "cell_type": "code",
      "metadata": {
        "id": "gfFCqTPjVn3H",
        "colab_type": "code",
        "colab": {
          "base_uri": "https://localhost:8080/",
          "height": 34
        },
        "outputId": "9f294a9a-73de-41d7-d3c5-3c2bea09d4d9"
      },
      "source": [
        "!ls drive/My\\ Drive/colab"
      ],
      "execution_count": 33,
      "outputs": [
        {
          "output_type": "stream",
          "text": [
            "curr_policy_net  exp_replay  policy_net  policy_net2\n"
          ],
          "name": "stdout"
        }
      ]
    },
    {
      "cell_type": "code",
      "metadata": {
        "id": "fQqro-2WIl_K",
        "colab_type": "code",
        "colab": {}
      },
      "source": [
        "torch.save(agent.state_dict(), 'drive/My Drive/colab/space_invaders')"
      ],
      "execution_count": 0,
      "outputs": []
    }
  ]
}